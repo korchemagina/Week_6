{
 "cells": [
  {
   "cell_type": "markdown",
   "metadata": {},
   "source": [
    "<div style=\"font-size:18pt; padding-top:20px; text-align:center\">СЕМИНАР 6. <b>Корреляция и </b> <span style=\"font-weight:bold; color:green\">NumPy/SciPy</span></div><hr>\n",
    "<div style=\"text-align:right;\">Папулин С.Ю. <span style=\"font-style: italic;font-weight: bold;\">(papulin_hse@mail.ru)</span></div>"
   ]
  },
  {
   "cell_type": "markdown",
   "metadata": {},
   "source": [
    "<a name=\"0\"></a>\n",
    "<div><span style=\"font-size:14pt; font-weight:bold\">Содержание</span>\n",
    "    <ol>\n",
    "        <li><a href=\"#1\">Корреляция Пирсона</a></li>\n",
    "        <li><a href=\"#2\">Примеры</a>\n",
    "        <li><a href=\"#3\">Источники</a>\n",
    "        </li>\n",
    "    </ol>\n",
    "</div>"
   ]
  },
  {
   "cell_type": "markdown",
   "metadata": {},
   "source": [
    "<p><b>Подлючение библиотек</b></p>"
   ]
  },
  {
   "cell_type": "code",
   "execution_count": null,
   "metadata": {
    "collapsed": true
   },
   "outputs": [],
   "source": [
    "import pandas as pnd\n",
    "import matplotlib.pyplot as plt\n",
    "import numpy as np\n",
    "from scipy import stats\n",
    "%matplotlib inline"
   ]
  },
  {
   "cell_type": "markdown",
   "metadata": {},
   "source": [
    "<a name=\"1\"></a>\n",
    "<div style=\"display:table; width:100%; padding-top:10px; padding-bottom:10px; border-bottom:1px solid lightgrey\">\n",
    "    <div style=\"display:table-row\">\n",
    "        <div style=\"display:table-cell; width:80%; font-size:14pt; font-weight:bold\">1. Корреляция Пирсона</div>\n",
    "    \t<div style=\"display:table-cell; width:20%; text-align:center; background-color:whitesmoke; border:1px solid lightgrey\"><a href=\"#0\">К содержанию</a></div>\n",
    "    </div>\n",
    "</div>"
   ]
  },
  {
   "cell_type": "markdown",
   "metadata": {},
   "source": [
    "Коэффициент корреляции Пирсона определяет линейную функциональную зависимость между двумя переменными"
   ]
  },
  {
   "cell_type": "markdown",
   "metadata": {},
   "source": [
    "$$r=\\frac{cov(x,y)}{\\sigma_x\\sigma_y}=\\frac{\\sum_{k=1}^{N}(x_k - \\mu_x)(y_k - \\mu_y)}{\\sqrt{\\sum_{k=1}^{N}(x_k - \\mu_x)^2\\sum_{k=1}^{N}(y_k - \\mu_y)^2}}$$"
   ]
  },
  {
   "cell_type": "markdown",
   "metadata": {},
   "source": [
    "$$-1 \\le r \\le 1$$"
   ]
  },
  {
   "cell_type": "markdown",
   "metadata": {},
   "source": [
    "Матричная запись"
   ]
  },
  {
   "cell_type": "markdown",
   "metadata": {},
   "source": [
    "$$R_{i,j}=\\frac{\\sum_{k=1}^{N}(X_{k,i} - \\mu_{x_i})(X_{k,j} - \\mu_{x_j})}{\\sqrt{\\sum_{k=1}^{N}(X_{k,i} - \\mu_{x_i})^2\\sum_{k=1}^{N}(X_{k,j} - \\mu_{x_j})^2}}$$"
   ]
  },
  {
   "cell_type": "markdown",
   "metadata": {},
   "source": [
    "<a name=\"1\"></a>\n",
    "<div style=\"display:table; width:100%; padding-top:10px; padding-bottom:10px; border-bottom:1px solid lightgrey\">\n",
    "    <div style=\"display:table-row\">\n",
    "        <div style=\"display:table-cell; width:80%; font-size:14pt; font-weight:bold\">2. Примеры</div>\n",
    "    \t<div style=\"display:table-cell; width:20%; text-align:center; background-color:whitesmoke; border:1px solid lightgrey\"><a href=\"#0\">К содержанию</a></div>\n",
    "    </div>\n",
    "</div>"
   ]
  },
  {
   "cell_type": "markdown",
   "metadata": {},
   "source": [
    "<p>Загрузка данных</p>"
   ]
  },
  {
   "cell_type": "code",
   "execution_count": null,
   "metadata": {
    "collapsed": false
   },
   "outputs": [],
   "source": [
    "dfBrend = pnd.read_csv(\"BZ_010201_160207.csv\", sep=\";\", header=None, skiprows=1, parse_dates=True, usecols=[2,7], \n",
    "                       names = [\"Date\",\"Price\"], index_col=0)\n",
    "dfBrend.T"
   ]
  },
  {
   "cell_type": "code",
   "execution_count": null,
   "metadata": {
    "collapsed": false
   },
   "outputs": [],
   "source": [
    "dfGDP = pnd.read_csv(\"GDP.csv\", sep=\";\", encoding = \"iso-8859-1\", header=None, parse_dates=True, usecols=[0,1], \n",
    "                     names=[\"Date\", \"GDP\"], index_col=0)\n",
    "dfGDP.index = dfGDP.index.year\n",
    "dfGDP.sort_index(inplace=True, ascending = 1)\n",
    "dfGDP.T"
   ]
  },
  {
   "cell_type": "code",
   "execution_count": null,
   "metadata": {
    "collapsed": false
   },
   "outputs": [],
   "source": [
    "dfUR = pnd.read_csv(\"USDRUB_010201_160207.csv\", sep=\";\", header=None, skiprows=1, parse_dates=True, usecols=[2,7], \n",
    "                       names = [\"Date\",\"USDRUB\"], index_col=0)\n",
    "dfUR.T"
   ]
  },
  {
   "cell_type": "code",
   "execution_count": null,
   "metadata": {
    "collapsed": false
   },
   "outputs": [],
   "source": [
    "dfER = pnd.read_csv(\"EURRUB_010201_160208.csv\", sep=\";\", header=None, skiprows=1, parse_dates=True, usecols=[2,7], \n",
    "                       names = [\"Date\",\"EURRUB\"], index_col=0)\n",
    "dfER.T"
   ]
  },
  {
   "cell_type": "code",
   "execution_count": null,
   "metadata": {
    "collapsed": false
   },
   "outputs": [],
   "source": [
    "plt.figure(1, figsize=[14,8])\n",
    "\n",
    "plt.subplot(2,2,1)\n",
    "plt.title(\"Brend Oil Price by month\")\n",
    "plt.plot(dfBrend.index, dfBrend)\n",
    "plt.grid(True)\n",
    "\n",
    "plt.subplot(2,2,2)\n",
    "plt.title(\"Gross Domestic Product by year\")\n",
    "plt.plot(dfGDP.index, dfGDP)\n",
    "plt.grid(True)\n",
    "\n",
    "plt.subplot(2,2,3)\n",
    "plt.title(\"USDRUB by month\")\n",
    "plt.plot(dfUR.index, dfUR)\n",
    "plt.grid(True)\n",
    "\n",
    "plt.subplot(2,2,4)\n",
    "plt.title(\"EURRUB by month\")\n",
    "plt.plot(dfER.index, dfER)\n",
    "plt.grid(True)\n",
    "\n",
    "plt.show()"
   ]
  },
  {
   "cell_type": "markdown",
   "metadata": {},
   "source": [
    "<p>Вывод данных по году</p>"
   ]
  },
  {
   "cell_type": "code",
   "execution_count": null,
   "metadata": {
    "collapsed": false
   },
   "outputs": [],
   "source": [
    "dfBrend.loc[\"2001\"]"
   ]
  },
  {
   "cell_type": "markdown",
   "metadata": {},
   "source": [
    "<p>Среднее значение за год</p>"
   ]
  },
  {
   "cell_type": "code",
   "execution_count": null,
   "metadata": {
    "collapsed": false
   },
   "outputs": [],
   "source": [
    "dfBrend.loc['2008'].mean()"
   ]
  },
  {
   "cell_type": "markdown",
   "metadata": {},
   "source": [
    "<p>Средние значения с 2001 по 2016</p>"
   ]
  },
  {
   "cell_type": "code",
   "execution_count": null,
   "metadata": {
    "collapsed": false
   },
   "outputs": [],
   "source": [
    "dfBrend_Year = dfBrend.groupby(dfBrend.index.year).mean()\n",
    "dfBrend_Year.T"
   ]
  },
  {
   "cell_type": "code",
   "execution_count": null,
   "metadata": {
    "collapsed": false
   },
   "outputs": [],
   "source": [
    "dfUR_Year = dfUR.groupby(dfUR.index.year).mean()\n",
    "dfUR_Year.T"
   ]
  },
  {
   "cell_type": "code",
   "execution_count": null,
   "metadata": {
    "collapsed": false
   },
   "outputs": [],
   "source": [
    "dfER_Year = dfER.groupby(dfER.index.year).mean()\n",
    "dfER_Year.T"
   ]
  },
  {
   "cell_type": "code",
   "execution_count": null,
   "metadata": {
    "collapsed": false
   },
   "outputs": [],
   "source": [
    "plt.figure(1, figsize=[14,8])\n",
    "\n",
    "plt.subplot(2,2,1)\n",
    "plt.title(\"Brend Oil Price by year\")\n",
    "plt.plot(dfBrend_Year.index, dfBrend_Year, \"o-\")\n",
    "plt.grid(True)\n",
    "\n",
    "plt.subplot(2,2,2)\n",
    "plt.title(\"Gross Domestic Product by year\")\n",
    "plt.plot(dfGDP.index, dfGDP, \"o-\")\n",
    "plt.grid(True)\n",
    "\n",
    "plt.subplot(2,2,3)\n",
    "plt.title(\"USDRUB by year\")\n",
    "plt.plot(dfUR_Year.index, dfUR_Year, \"o-\")\n",
    "plt.grid(True)\n",
    "\n",
    "plt.subplot(2,2,4)\n",
    "plt.title(\"EURRUB by year\")\n",
    "plt.plot(dfER_Year.index, dfER_Year, \"o-\")\n",
    "plt.grid(True)\n",
    "\n",
    "plt.show()"
   ]
  },
  {
   "cell_type": "markdown",
   "metadata": {},
   "source": [
    "<p>Выбор рассматриваемого диапазона</p>"
   ]
  },
  {
   "cell_type": "code",
   "execution_count": null,
   "metadata": {
    "collapsed": false
   },
   "outputs": [],
   "source": [
    "st = pnd.Timestamp('2002').year\n",
    "end = pnd.Timestamp('2012').year"
   ]
  },
  {
   "cell_type": "code",
   "execution_count": null,
   "metadata": {
    "collapsed": false
   },
   "outputs": [],
   "source": [
    "d = {\"Brend\": dfBrend_Year.loc[st:end,\"Price\"], \n",
    "     \"GDP\":dfGDP.loc[st:end,\"GDP\"],\n",
    "     \"USDRUB\":dfUR_Year.loc[st:end,\"USDRUB\"],\n",
    "     \"EURRUB\":dfER_Year.loc[st:end,\"EURRUB\"],\n",
    "    }\n",
    "dfAll = pnd.DataFrame(d)\n",
    "dfAll"
   ]
  },
  {
   "cell_type": "markdown",
   "metadata": {},
   "source": [
    "<p>Корреляция</p>"
   ]
  },
  {
   "cell_type": "code",
   "execution_count": null,
   "metadata": {
    "collapsed": false
   },
   "outputs": [],
   "source": [
    "#Pandas\n",
    "dfAll.corr(method=\"pearson\") #‘pearson’, ‘kendall’, ‘spearman’"
   ]
  },
  {
   "cell_type": "code",
   "execution_count": null,
   "metadata": {
    "collapsed": false
   },
   "outputs": [],
   "source": [
    "#NumPy\n",
    "np.corrcoef(dfAll.T)"
   ]
  },
  {
   "cell_type": "code",
   "execution_count": null,
   "metadata": {
    "collapsed": false
   },
   "outputs": [],
   "source": [
    "#SciPy\n",
    "pearson_coef, pvalue = stats.pearsonr(dfAll.GDP, dfAll.Brend)\n",
    "pearson_coef"
   ]
  },
  {
   "cell_type": "code",
   "execution_count": null,
   "metadata": {
    "collapsed": true
   },
   "outputs": [],
   "source": []
  },
  {
   "cell_type": "code",
   "execution_count": null,
   "metadata": {
    "collapsed": false
   },
   "outputs": [],
   "source": [
    "plt.figure(1, figsize=[15,4])\n",
    "\n",
    "plt.subplot(1,3,1)\n",
    "plt.title(\"Brend Oil Price by year\")\n",
    "plt.plot(dfAll.index, dfAll.Brend, \"o-\")\n",
    "plt.grid(True)\n",
    "\n",
    "plt.subplot(1,3,2)\n",
    "plt.title(\"Gross Domestic Product by year\")\n",
    "plt.plot(dfAll.index, dfAll.GDP, \"o-\")\n",
    "plt.grid(True)\n",
    "\n",
    "plt.subplot(1,3,3)\n",
    "plt.title(\"Brend vs GDP\")\n",
    "plt.plot(dfAll.Brend, dfAll.GDP, \"o\")\n",
    "plt.grid(True)\n",
    "\n",
    "plt.show()"
   ]
  },
  {
   "cell_type": "code",
   "execution_count": null,
   "metadata": {
    "collapsed": false
   },
   "outputs": [],
   "source": [
    "plt.figure(1, figsize=[15,4])\n",
    "\n",
    "plt.subplot(1,3,1)\n",
    "plt.title(\"Brend Oil Price by year\")\n",
    "plt.plot(dfAll.index, dfAll.Brend, \"o-\")\n",
    "plt.grid(True)\n",
    "\n",
    "plt.subplot(1,3,2)\n",
    "plt.title(\"EURRUB by year\")\n",
    "plt.plot(dfAll.index, dfAll.EURRUB, \"o-\")\n",
    "plt.grid(True)\n",
    "\n",
    "plt.subplot(1,3,3)\n",
    "plt.title(\"Brend vs EURRUB\")\n",
    "plt.plot(dfAll.Brend, dfAll.EURRUB, \"o\")\n",
    "plt.grid(True)\n",
    "\n",
    "plt.show()"
   ]
  },
  {
   "cell_type": "code",
   "execution_count": null,
   "metadata": {
    "collapsed": false
   },
   "outputs": [],
   "source": [
    "plt.figure(1, figsize=[15,4])\n",
    "\n",
    "plt.subplot(1,3,1)\n",
    "plt.title(\"Brend Oil Price by year\")\n",
    "plt.plot(dfAll.index, dfAll.Brend, \"o-\")\n",
    "plt.grid(True)\n",
    "\n",
    "plt.subplot(1,3,2)\n",
    "plt.title(\"USDRUB by year\")\n",
    "plt.plot(dfAll.index, dfAll.USDRUB, \"o-\")\n",
    "plt.grid(True)\n",
    "\n",
    "plt.subplot(1,3,3)\n",
    "plt.title(\"Brend vs USDRUB\")\n",
    "plt.plot(dfAll.Brend, dfAll.USDRUB, \"o\")\n",
    "plt.grid(True)\n",
    "\n",
    "plt.show()"
   ]
  },
  {
   "cell_type": "code",
   "execution_count": null,
   "metadata": {
    "collapsed": false
   },
   "outputs": [],
   "source": [
    "plt.figure(1, figsize=[15,4])\n",
    "\n",
    "plt.subplot(1,3,1)\n",
    "plt.title(\"Gross Domestic Product by year\")\n",
    "plt.plot(dfAll.index, dfAll.GDP, \"o-\")\n",
    "plt.grid(True)\n",
    "\n",
    "plt.subplot(1,3,2)\n",
    "plt.title(\"USDRUB by year\")\n",
    "plt.plot(dfAll.index, dfAll.USDRUB, \"o-\")\n",
    "plt.grid(True)\n",
    "\n",
    "plt.subplot(1,3,3)\n",
    "plt.title(\"GDP vs USDRUB\")\n",
    "plt.plot(dfAll.GDP, dfAll.USDRUB, \"o\")\n",
    "plt.xticks(rotation='vertical')\n",
    "plt.grid(True)\n",
    "\n",
    "plt.show()"
   ]
  },
  {
   "cell_type": "code",
   "execution_count": null,
   "metadata": {
    "collapsed": false
   },
   "outputs": [],
   "source": [
    "plt.plot(dfGDP.index, dfGDP, \"o-\")\n",
    "plt.xlabel(\"Year\", size=14)\n",
    "plt.ylabel(\"GDP, BN RUB\", size=14)\n",
    "plt.title(\"GDP(Year) in Russia\", size=18)\n",
    "plt.grid(True)\n",
    "plt.xticks(dfGDP.index, rotation='vertical')\n",
    "plt.show()"
   ]
  },
  {
   "cell_type": "markdown",
   "metadata": {
    "collapsed": true
   },
   "source": [
    "<a name=\"6\"></a>\n",
    "<div style=\"display:table; width:100%; padding-top:10px; padding-bottom:10px; border-bottom:1px solid lightgrey\">\n",
    "    <div style=\"display:table-row\">\n",
    "        <div style=\"display:table-cell; width:80%; font-size:14pt; font-weight:bold\">6. Источники</div>\n",
    "    \t<div style=\"display:table-cell; width:20%; text-align:center; background-color:whitesmoke; border:1px solid lightgrey\"><a href=\"#0\">К содержанию</a></div>\n",
    "    </div>\n",
    "</div>"
   ]
  },
  {
   "cell_type": "markdown",
   "metadata": {},
   "source": [
    "<a href=\"http://pandas.pydata.org/pandas-docs/stable/generated/pandas.DataFrame.corr.html\">pandas.DataFrame.corr</a><br>\n",
    "<a href=\"http://docs.scipy.org/doc/numpy-1.10.1/reference/generated/numpy.corrcoef.html\">numpy.corrcoef</a><br>\n",
    "<a href=\"http://docs.scipy.org/doc/scipy-0.14.0/reference/generated/scipy.stats.pearsonr.html\">scipy.stats.pearsonr</a><br>\n",
    "\n",
    "<a href=\"https://msdn.microsoft.com/ru-ru/library/azure/dn905819.aspx\">Вычисления линейной корреляции</a><br>"
   ]
  }
 ],
 "metadata": {
  "kernelspec": {
   "display_name": "Python 3",
   "language": "python",
   "name": "python3"
  },
  "language_info": {
   "codemirror_mode": {
    "name": "ipython",
    "version": 3
   },
   "file_extension": ".py",
   "mimetype": "text/x-python",
   "name": "python",
   "nbconvert_exporter": "python",
   "pygments_lexer": "ipython3",
   "version": "3.4.3"
  }
 },
 "nbformat": 4,
 "nbformat_minor": 0
}
