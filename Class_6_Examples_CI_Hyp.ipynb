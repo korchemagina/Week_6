{
 "cells": [
  {
   "cell_type": "markdown",
   "metadata": {},
   "source": [
    "<div style=\"font-size:18pt; padding-top:20px; text-align:center\">СЕМИНАР 6. <b>Статистика и <span style=\"font-weight:bold; color:green\">NumPy/SciPy</span>. Задачи</b></div><hr>\n",
    "<div style=\"text-align:right;\">Папулин С.Ю. <span style=\"font-style: italic;font-weight: bold;\">(papulin_hse@mail.ru)</span></div>"
   ]
  },
  {
   "cell_type": "markdown",
   "metadata": {},
   "source": [
    "<a name=\"0\"></a>\n",
    "<div><span style=\"font-size:14pt; font-weight:bold\">Содержание</span>\n",
    "    <ul>\n",
    "        <li><a href=\"#1\">Генеральные совокупности</a></li>\n",
    "        <li><a href=\"#2\">Задача 1. Доверительный интервал</a></li>\n",
    "        <li><a href=\"#3\">Задача 2. Проверка гипотезы с одной выборкой</a>\n",
    "        <li><a href=\"#4\">Задача 3. Проверка гипотезы с парной выборкой</a>\n",
    "        <li><a href=\"#5\">Задача 4. Проверка гипотезы по двум выборкам</a>\n",
    "        </li>\n",
    "    </ul>\n",
    "</div>"
   ]
  },
  {
   "cell_type": "markdown",
   "metadata": {},
   "source": [
    "<p><b>Подлючение библиотек и функций</b></p>"
   ]
  },
  {
   "cell_type": "code",
   "execution_count": null,
   "metadata": {
    "collapsed": true
   },
   "outputs": [],
   "source": [
    "import numpy as np\n",
    "from scipy import stats\n",
    "import matplotlib.pyplot as plt\n",
    "%matplotlib inline"
   ]
  },
  {
   "cell_type": "code",
   "execution_count": null,
   "metadata": {
    "collapsed": true
   },
   "outputs": [],
   "source": [
    "def getSE(sigma, n):\n",
    "    return sigma / np.sqrt(n)\n",
    "\n",
    "def getSE2(sigma1, n1, sigma2, n2):\n",
    "    return np.sqrt(sigma1**2 / n1 + sigma2**2 / n2)\n",
    "\n",
    "def getZ(x, mu, se):\n",
    "    return (x - mu) / se\n",
    "\n",
    "def getPrByX(x, mu, se):\n",
    "    return stats.norm.cdf(x, loc=mu, scale=se)\n",
    "\n",
    "def getPrByZ(z):\n",
    "    return stats.norm.cdf(z, loc=0, scale=1)\n",
    "\n",
    "def getZbyPr2Tail(pr):\n",
    "    return stats.norm.ppf((1-pr)/2, loc=0, scale=1)\n",
    "\n",
    "def getZbyPr1Tail(pr):\n",
    "    return stats.norm.ppf(1-pr, loc=0, scale=1)\n",
    "\n",
    "def getPValue1Tail_Norm(z):\n",
    "    return 1 - stats.norm.cdf(z, loc=0, scale=1)\n",
    "\n",
    "def getPValue2Tail_Norm(z):\n",
    "    return 2 * (stats.norm.cdf(-abs(z), loc=0, scale=1))\n",
    "\n",
    "def getPValue2Tail_T(t, df):\n",
    "    return 2 * stats.t.cdf(-abs(t), df=df)\n",
    "\n",
    "def getPValue1Tail_T(t, df):\n",
    "    return 1 - stats.t.cdf(t, df=df)"
   ]
  },
  {
   "cell_type": "markdown",
   "metadata": {},
   "source": [
    "<a name=\"1\"></a>\n",
    "<div style=\"display:table; width:100%; padding-top:10px; padding-bottom:10px; border-bottom:1px solid lightgrey\">\n",
    "    <div style=\"display:table-row\">\n",
    "        <div style=\"display:table-cell; width:80%; font-size:14pt; font-weight:bold\">Генеральные совокупности</div>\n",
    "    \t<div style=\"display:table-cell; width:20%; text-align:center; background-color:whitesmoke; border:1px solid lightgrey\"><a href=\"#0\">К содержанию</a></div>\n",
    "    </div>\n",
    "</div>"
   ]
  },
  {
   "cell_type": "markdown",
   "metadata": {},
   "source": [
    "<p>Создание генеральных совокупностей</p>"
   ]
  },
  {
   "cell_type": "code",
   "execution_count": null,
   "metadata": {
    "collapsed": true
   },
   "outputs": [],
   "source": [
    "mu1 = 70\n",
    "sigma1 = 30\n",
    "population1 = stats.norm.rvs(size=10000, loc=mu1, scale=sigma1)"
   ]
  },
  {
   "cell_type": "code",
   "execution_count": null,
   "metadata": {
    "collapsed": true
   },
   "outputs": [],
   "source": [
    "mu2 = 60\n",
    "sigma2 = 20\n",
    "population2 = stats.norm.rvs(size=10000, loc=mu2, scale=sigma2)"
   ]
  },
  {
   "cell_type": "code",
   "execution_count": null,
   "metadata": {
    "collapsed": true
   },
   "outputs": [],
   "source": [
    "mu3 = 2\n",
    "sigma3 = 2\n",
    "diff = stats.norm.rvs(size=10000, loc=mu3, scale=sigma3)\n",
    "population3 = list(zip(population1, population1 + diff))"
   ]
  },
  {
   "cell_type": "markdown",
   "metadata": {},
   "source": [
    "<a name=\"2\"></a>\n",
    "<div style=\"display:table; width:100%; padding-top:10px; padding-bottom:10px; border-bottom:1px solid lightgrey\">\n",
    "    <div style=\"display:table-row\">\n",
    "        <div style=\"display:table-cell; width:80%; font-size:14pt; font-weight:bold\">Задача 1. Доверительный интервал</div>\n",
    "    \t<div style=\"display:table-cell; width:20%; text-align:center; background-color:whitesmoke; border:1px solid lightgrey\"><a href=\"#0\">К содержанию</a></div>\n",
    "    </div>\n",
    "</div>"
   ]
  },
  {
   "cell_type": "markdown",
   "metadata": {},
   "source": [
    "<p><b><i>Выборка</i></b></p>"
   ]
  },
  {
   "cell_type": "markdown",
   "metadata": {},
   "source": [
    "<p>Исходные данные</p>"
   ]
  },
  {
   "cell_type": "code",
   "execution_count": null,
   "metadata": {
    "collapsed": false
   },
   "outputs": [],
   "source": [
    "n = 40\n",
    "sample_2015 = np.random.choice(population1, n, replace=False)\n",
    "sample_2015"
   ]
  },
  {
   "cell_type": "markdown",
   "metadata": {},
   "source": [
    "<p>Статистики выборки</p>"
   ]
  },
  {
   "cell_type": "code",
   "execution_count": null,
   "metadata": {
    "collapsed": false
   },
   "outputs": [],
   "source": [
    "minV, maxV, x_bar_2015, var_2015, sk, kur = stats.describe(sample_2015)\n",
    "print(x_bar_2015)\n",
    "print(var_2015)"
   ]
  },
  {
   "cell_type": "markdown",
   "metadata": {},
   "source": [
    "<p>или</p>"
   ]
  },
  {
   "cell_type": "code",
   "execution_count": null,
   "metadata": {
    "collapsed": false
   },
   "outputs": [],
   "source": [
    "#Среднее значение\n",
    "x_bar = sample_2015.mean()\n",
    "print(x_bar)\n",
    "\n",
    "#Выборочная дисперсия\n",
    "var_2015 = sample_2015.var(ddof=1)\n",
    "print(var_2015)\n",
    "\n",
    "#Стандартное отклонение (несмещенное)\n",
    "s_2015 = sample_2015.std(ddof=1)\n",
    "print(s_2015)"
   ]
  },
  {
   "cell_type": "markdown",
   "metadata": {},
   "source": [
    "<p><b><i>Доверительный интервал</i></b></p>"
   ]
  },
  {
   "cell_type": "code",
   "execution_count": null,
   "metadata": {
    "collapsed": true
   },
   "outputs": [],
   "source": [
    "#Уровни доверия: 95%, 90%, 80%\n",
    "prs = np.array([0.95, 0.9, 0.8])"
   ]
  },
  {
   "cell_type": "code",
   "execution_count": null,
   "metadata": {
    "collapsed": false
   },
   "outputs": [],
   "source": [
    "#Стандартная ошибка\n",
    "se = getSE(s_2015, n)\n",
    "se"
   ]
  },
  {
   "cell_type": "code",
   "execution_count": null,
   "metadata": {
    "collapsed": false
   },
   "outputs": [],
   "source": [
    "#Доверителный интервал\n",
    "lowers, uppers = stats.norm.interval(prs, loc=x_bar, scale=se)\n",
    "for i in range(len(prs)):\n",
    "    print(\"Уровень доверия %i%%: (%f, %f)\" % (prs[i]*100, lowers[i], uppers[i]))"
   ]
  },
  {
   "cell_type": "code",
   "execution_count": null,
   "metadata": {
    "collapsed": false
   },
   "outputs": [],
   "source": [
    "#Доверителный интервал для t-распределения (при небольших n)\n",
    "lowers_t, uppers_t = stats.t.interval(prs, df=n-1, loc=x_bar, scale=se)\n",
    "print(\"t-распределение\")\n",
    "for i in range(len(prs)):\n",
    "    print(\"Уровень доверия %i%%: (%f, %f)\" % (prs[i]*100, lowers_t[i], uppers_t[i]))"
   ]
  },
  {
   "cell_type": "markdown",
   "metadata": {},
   "source": [
    "<p>или</p>"
   ]
  },
  {
   "cell_type": "code",
   "execution_count": null,
   "metadata": {
    "collapsed": false
   },
   "outputs": [],
   "source": [
    "#z-значения для двустороннего интервала\n",
    "zs = stats.norm.ppf((1-prs)/2, loc=0, scale=1)\n",
    "zs"
   ]
  },
  {
   "cell_type": "code",
   "execution_count": null,
   "metadata": {
    "collapsed": false
   },
   "outputs": [],
   "source": [
    "#z-значения для двустороннего интервала\n",
    "zs = getZbyPr2Tail(prs)\n",
    "zs"
   ]
  },
  {
   "cell_type": "code",
   "execution_count": null,
   "metadata": {
    "collapsed": false
   },
   "outputs": [],
   "source": [
    "#Предельная ошибка\n",
    "delta = abs(zs*se)\n",
    "delta"
   ]
  },
  {
   "cell_type": "code",
   "execution_count": null,
   "metadata": {
    "collapsed": false
   },
   "outputs": [],
   "source": [
    "#Доверителный интервал\n",
    "lowers = x_bar - delta\n",
    "uppers = x_bar + delta\n",
    "\n",
    "for i in range(len(prs)):\n",
    "    print(\"Уровень доверия %i%%: (%f, %f)\" % (prs[i]*100, lowers[i], uppers[i]))"
   ]
  },
  {
   "cell_type": "markdown",
   "metadata": {},
   "source": [
    "<a name=\"3\"></a>\n",
    "<div style=\"display:table; width:100%; padding-top:10px; padding-bottom:10px; border-bottom:1px solid lightgrey\">\n",
    "    <div style=\"display:table-row\">\n",
    "        <div style=\"display:table-cell; width:80%; font-size:14pt; font-weight:bold\">Задача 2. Проверка гипотезы с одной выборкой</div>\n",
    "    \t<div style=\"display:table-cell; width:20%; text-align:center; background-color:whitesmoke; border:1px solid lightgrey\"><a href=\"#0\">К содержанию</a></div>\n",
    "    </div>\n",
    "</div>"
   ]
  },
  {
   "cell_type": "markdown",
   "metadata": {},
   "source": [
    "<p>$$H_0: \\mu_{2014}=\\mu_{2015}$$<p>\n",
    "<p>$$H_A: \\mu_{2014} \\neq \\mu_{2015}$$<p>"
   ]
  },
  {
   "cell_type": "markdown",
   "metadata": {},
   "source": [
    "<p><b><i>Выборка</i></b></p>"
   ]
  },
  {
   "cell_type": "markdown",
   "metadata": {},
   "source": [
    "<p>Исходные данные</p>"
   ]
  },
  {
   "cell_type": "code",
   "execution_count": null,
   "metadata": {
    "collapsed": false
   },
   "outputs": [],
   "source": [
    "mu_2014 = 65\n",
    "n = 40\n",
    "alpha = 0.05 #уровень значимости\n",
    "sample_2015 = np.random.choice(population1, n, replace=False)\n",
    "sample_2015"
   ]
  },
  {
   "cell_type": "code",
   "execution_count": null,
   "metadata": {
    "collapsed": false
   },
   "outputs": [],
   "source": [
    "#Среднее значение\n",
    "x_bar_2015 = sample_2015.mean()\n",
    "print(x_bar)\n",
    "\n",
    "#Стандартное отклонение (несмещенное)\n",
    "s_2015 = sample_2015.std(ddof=1)\n",
    "print(s_2015)\n",
    "\n",
    "#Стандартная ошибка\n",
    "se = getSE(s_2015, n)\n",
    "print(se)"
   ]
  },
  {
   "cell_type": "markdown",
   "metadata": {},
   "source": [
    "<p><b>Проверка гипотезы</b></p>"
   ]
  },
  {
   "cell_type": "code",
   "execution_count": null,
   "metadata": {
    "collapsed": false
   },
   "outputs": [],
   "source": [
    "#Z-score\n",
    "z = getZ(x_bar_2015, mu_2014, se)\n",
    "z"
   ]
  },
  {
   "cell_type": "code",
   "execution_count": null,
   "metadata": {
    "collapsed": false
   },
   "outputs": [],
   "source": [
    "#P-Value \n",
    "pvalue = getPValue2Tail_Norm(z)\n",
    "pvalue"
   ]
  },
  {
   "cell_type": "code",
   "execution_count": null,
   "metadata": {
    "collapsed": false
   },
   "outputs": [],
   "source": [
    "#P-Value для t-распределения\n",
    "df = n - 1 #степень свободы\n",
    "pvalue_t = getPValue2Tail_T(z, df)\n",
    "pvalue_t"
   ]
  },
  {
   "cell_type": "markdown",
   "metadata": {},
   "source": [
    "<p>или</p>"
   ]
  },
  {
   "cell_type": "code",
   "execution_count": null,
   "metadata": {
    "collapsed": false
   },
   "outputs": [],
   "source": [
    "tvalue, pvalue_t = stats.ttest_1samp(sample_2015, mu_2014)\n",
    "pvalue_t"
   ]
  },
  {
   "cell_type": "code",
   "execution_count": null,
   "metadata": {
    "collapsed": false
   },
   "outputs": [],
   "source": [
    "pvalue_t = 2 * stats.t.cdf(-abs(tvalue), df)\n",
    "pvalue_t"
   ]
  },
  {
   "cell_type": "markdown",
   "metadata": {},
   "source": [
    "<p><b>Проверка гипотезы на соответствие уровню значимости $\\alpha$</b></p>"
   ]
  },
  {
   "cell_type": "code",
   "execution_count": null,
   "metadata": {
    "collapsed": false
   },
   "outputs": [],
   "source": [
    "if alpha > pvalue:\n",
    "    print(\"alpha > p-value\")\n",
    "    print(\"Отказываемся от нулевую гипотезы в пользу альтернативной\")\n",
    "else:\n",
    "    print(\"alpha <= p-value\")\n",
    "    print(\"Принимаем нулевую гипотезу (не отказываемся от нулевой гипотезы)\")"
   ]
  },
  {
   "cell_type": "markdown",
   "metadata": {},
   "source": [
    "<p><b>График</b></p>"
   ]
  },
  {
   "cell_type": "code",
   "execution_count": null,
   "metadata": {
    "collapsed": true
   },
   "outputs": [],
   "source": []
  },
  {
   "cell_type": "markdown",
   "metadata": {},
   "source": [
    "<a name=\"4\"></a>\n",
    "<div style=\"display:table; width:100%; padding-top:10px; padding-bottom:10px; border-bottom:1px solid lightgrey\">\n",
    "    <div style=\"display:table-row\">\n",
    "        <div style=\"display:table-cell; width:80%; font-size:14pt; font-weight:bold\">Задача 3. Проверка гипотезы с парной выборкой</div>\n",
    "    \t<div style=\"display:table-cell; width:20%; text-align:center; background-color:whitesmoke; border:1px solid lightgrey\"><a href=\"#0\">К содержанию</a></div>\n",
    "    </div>\n",
    "</div>"
   ]
  },
  {
   "cell_type": "markdown",
   "metadata": {},
   "source": [
    "<p><b><i>Выборка</i></b></p>"
   ]
  },
  {
   "cell_type": "markdown",
   "metadata": {},
   "source": [
    "<p>Исходные данные</p>"
   ]
  },
  {
   "cell_type": "code",
   "execution_count": null,
   "metadata": {
    "collapsed": true
   },
   "outputs": [],
   "source": [
    "alpha = 0.05 #уровень значимости"
   ]
  },
  {
   "cell_type": "code",
   "execution_count": null,
   "metadata": {
    "collapsed": false
   },
   "outputs": [],
   "source": [
    "import random\n",
    "\n",
    "n_items = 40\n",
    "sample_items = np.array(random.sample(population3, n_items))\n",
    "sample_items"
   ]
  },
  {
   "cell_type": "code",
   "execution_count": null,
   "metadata": {
    "collapsed": false
   },
   "outputs": [],
   "source": [
    "sample_diff = sample_items[:,0] - sample_items[:,1]\n",
    "sample_diff"
   ]
  },
  {
   "cell_type": "code",
   "execution_count": null,
   "metadata": {
    "collapsed": false
   },
   "outputs": [],
   "source": [
    "#Среднее значение\n",
    "x_bar_diff = sample_diff.mean()\n",
    "print(\"x_bar_diff =\", x_bar_diff)\n",
    "\n",
    "#Стандартное отклонение (несмещенное)\n",
    "s_diff = sample_diff.std(ddof=1)\n",
    "print(\"s_diff =\", s_diff)\n",
    "\n",
    "#Стандартная ошибка\n",
    "se_diff = getSE(s_diff, n_items)\n",
    "print(\"se_diff =\", se_diff)"
   ]
  },
  {
   "cell_type": "markdown",
   "metadata": {},
   "source": [
    "<p><b>Проверка гипотезы</b></p>"
   ]
  },
  {
   "cell_type": "markdown",
   "metadata": {},
   "source": [
    "<p>$$H_0: \\mu_{diff}=0$$<p>\n",
    "<p>$$H_A: \\mu_{diff} \\neq 0$$<p>"
   ]
  },
  {
   "cell_type": "code",
   "execution_count": null,
   "metadata": {
    "collapsed": false
   },
   "outputs": [],
   "source": [
    "#Z-score\n",
    "z = getZ(x_bar_diff, 0, se_diff)\n",
    "z"
   ]
  },
  {
   "cell_type": "code",
   "execution_count": null,
   "metadata": {
    "collapsed": false
   },
   "outputs": [],
   "source": [
    "#P-Value \n",
    "pvalue = getPValue2Tail_Norm(z)\n",
    "pvalue"
   ]
  },
  {
   "cell_type": "code",
   "execution_count": null,
   "metadata": {
    "collapsed": false
   },
   "outputs": [],
   "source": [
    "#P-Value для t-распределения\n",
    "df = n_items - 1\n",
    "   \n",
    "pvalue_t = getPValue2Tail_T(z, df)\n",
    "pvalue_t"
   ]
  },
  {
   "cell_type": "markdown",
   "metadata": {},
   "source": [
    "<p>или</p>"
   ]
  },
  {
   "cell_type": "code",
   "execution_count": null,
   "metadata": {
    "collapsed": false
   },
   "outputs": [],
   "source": [
    "tvalue, pvalue_t = stats.ttest_rel(sample_items[:,0], sample_items[:,1])\n",
    "print(\"t-value =\", tvalue)\n",
    "print(\"p-value =\", pvalue_t)"
   ]
  },
  {
   "cell_type": "code",
   "execution_count": null,
   "metadata": {
    "collapsed": false
   },
   "outputs": [],
   "source": [
    "pvalue_t = 2 * stats.t.cdf(-abs(tvalue), df)\n",
    "pvalue_t"
   ]
  },
  {
   "cell_type": "markdown",
   "metadata": {},
   "source": [
    "<p><b>Проверка гипотезы на соответствие уровню значимости $\\alpha$</b></p>"
   ]
  },
  {
   "cell_type": "code",
   "execution_count": null,
   "metadata": {
    "collapsed": false
   },
   "outputs": [],
   "source": [
    "if alpha > pvalue:\n",
    "    print(\"alpha > p-value\")\n",
    "    print(\"Отказываемся от нулевую гипотезы в пользу альтернативной\")\n",
    "else:\n",
    "    print(\"alpha <= p-value\")\n",
    "    print(\"Принимаем нулевую гипотезу (не отказываемся от нулевой гипотезы)\")"
   ]
  },
  {
   "cell_type": "markdown",
   "metadata": {},
   "source": [
    "<p><b>График</b></p>"
   ]
  },
  {
   "cell_type": "code",
   "execution_count": null,
   "metadata": {
    "collapsed": true
   },
   "outputs": [],
   "source": []
  },
  {
   "cell_type": "markdown",
   "metadata": {},
   "source": [
    "<a name=\"5\"></a>\n",
    "<div style=\"display:table; width:100%; padding-top:10px; padding-bottom:10px; border-bottom:1px solid lightgrey\">\n",
    "    <div style=\"display:table-row\">\n",
    "        <div style=\"display:table-cell; width:80%; font-size:14pt; font-weight:bold\">Задача 4. Проверка гипотезы по двум выборкам</div>\n",
    "    \t<div style=\"display:table-cell; width:20%; text-align:center; background-color:whitesmoke; border:1px solid lightgrey\"><a href=\"#0\">К содержанию</a></div>\n",
    "    </div>\n",
    "</div>"
   ]
  },
  {
   "cell_type": "markdown",
   "metadata": {},
   "source": [
    "<p><b><i>Выборка</i></b></p>"
   ]
  },
  {
   "cell_type": "markdown",
   "metadata": {},
   "source": [
    "<p>Исходные данные</p>"
   ]
  },
  {
   "cell_type": "code",
   "execution_count": null,
   "metadata": {
    "collapsed": true
   },
   "outputs": [],
   "source": [
    "alpha = 0.05 #уровень значимости"
   ]
  },
  {
   "cell_type": "code",
   "execution_count": null,
   "metadata": {
    "collapsed": false
   },
   "outputs": [],
   "source": [
    "n_london = 40\n",
    "sample_london = np.random.choice(population1, n_london, replace=False)\n",
    "sample_london"
   ]
  },
  {
   "cell_type": "code",
   "execution_count": null,
   "metadata": {
    "collapsed": false
   },
   "outputs": [],
   "source": [
    "n_moscow = 50\n",
    "sample_moscow = np.random.choice(population2, n_moscow, replace=False)\n",
    "sample_moscow"
   ]
  },
  {
   "cell_type": "code",
   "execution_count": null,
   "metadata": {
    "collapsed": false
   },
   "outputs": [],
   "source": [
    "#Среднее значение\n",
    "x_bar_london = sample_london.mean()\n",
    "x_bar_moscow = sample_moscow.mean()\n",
    "print(\"x_bar_london =\", x_bar_london)\n",
    "print(\"x_bar_moscow =\", x_bar_moscow)\n",
    "\n",
    "#Стандартное отклонение (несмещенное)\n",
    "s_london = sample_london.std(ddof=1)\n",
    "s_moscow = sample_moscow.std(ddof=1)\n",
    "print(\"s_london =\", s_london)\n",
    "print(\"s_moscow =\", s_moscow)\n",
    "\n",
    "#Стандартная ошибка\n",
    "se_london_moscow = getSE2(s_london, n_london, s_moscow, n_moscow)\n",
    "print(\"se_london_moscow =\", se_london_moscow)"
   ]
  },
  {
   "cell_type": "markdown",
   "metadata": {},
   "source": [
    "<p><b>Проверка гипотезы</b></p>"
   ]
  },
  {
   "cell_type": "markdown",
   "metadata": {},
   "source": [
    "<p>$$H_0: \\mu_{treated}-\\mu_{control}=0$$<p>\n",
    "<p>$$H_A: \\mu_{treated}-\\mu_{control} \\neq 0$$<p>"
   ]
  },
  {
   "cell_type": "code",
   "execution_count": null,
   "metadata": {
    "collapsed": false
   },
   "outputs": [],
   "source": [
    "#Z-score\n",
    "z = getZ(x_bar_london-x_bar_moscow, 0, se_london_moscow)\n",
    "z"
   ]
  },
  {
   "cell_type": "code",
   "execution_count": null,
   "metadata": {
    "collapsed": false
   },
   "outputs": [],
   "source": [
    "#P-Value \n",
    "pvalue = getPValue2Tail_Norm(z)\n",
    "pvalue"
   ]
  },
  {
   "cell_type": "code",
   "execution_count": null,
   "metadata": {
    "collapsed": false
   },
   "outputs": [],
   "source": [
    "#P-Value для t-распределения\n",
    "df = n_london - 1\n",
    "if n_london > n_moscow:\n",
    "    df = n_moscow - 1\n",
    "    \n",
    "pvalue_t = getPValue2Tail_T(z, df)\n",
    "pvalue_t"
   ]
  },
  {
   "cell_type": "markdown",
   "metadata": {},
   "source": [
    "<p>или</p>"
   ]
  },
  {
   "cell_type": "code",
   "execution_count": null,
   "metadata": {
    "collapsed": false
   },
   "outputs": [],
   "source": [
    "tvalue, pvalue_t = stats.ttest_ind(sample_london, sample_moscow, equal_var=False)\n",
    "pvalue_t"
   ]
  },
  {
   "cell_type": "markdown",
   "metadata": {},
   "source": [
    "<p>или</p>"
   ]
  },
  {
   "cell_type": "code",
   "execution_count": null,
   "metadata": {
    "collapsed": false
   },
   "outputs": [],
   "source": [
    "tvalue, pvalue_t = stats.ttest_ind_from_stats(x_bar_london, s_london, n_london, x_bar_moscow, s_moscow, n_moscow, equal_var=False)\n",
    "pvalue_t"
   ]
  },
  {
   "cell_type": "code",
   "execution_count": null,
   "metadata": {
    "collapsed": false
   },
   "outputs": [],
   "source": [
    "pvalue_t = 2 * stats.t.cdf(-abs(tvalue), df)\n",
    "pvalue_t"
   ]
  },
  {
   "cell_type": "markdown",
   "metadata": {},
   "source": [
    "<p><b>Проверка гипотезы на соответствие уровню значимости $\\alpha$</b></p>"
   ]
  },
  {
   "cell_type": "code",
   "execution_count": null,
   "metadata": {
    "collapsed": false
   },
   "outputs": [],
   "source": [
    "if alpha > pvalue:\n",
    "    print(\"alpha > p-value\")\n",
    "    print(\"Отказываемся от нулевую гипотезы в пользу альтернативной\")\n",
    "else:\n",
    "    print(\"alpha <= p-value\")\n",
    "    print(\"Принимаем нулевую гипотезу (не отказываемся от нулевой гипотезы)\")"
   ]
  },
  {
   "cell_type": "markdown",
   "metadata": {},
   "source": [
    "<p><b>График</b></p>"
   ]
  },
  {
   "cell_type": "code",
   "execution_count": null,
   "metadata": {
    "collapsed": true
   },
   "outputs": [],
   "source": []
  }
 ],
 "metadata": {
  "kernelspec": {
   "display_name": "Python 3",
   "language": "python",
   "name": "python3"
  },
  "language_info": {
   "codemirror_mode": {
    "name": "ipython",
    "version": 3
   },
   "file_extension": ".py",
   "mimetype": "text/x-python",
   "name": "python",
   "nbconvert_exporter": "python",
   "pygments_lexer": "ipython3",
   "version": "3.4.3"
  }
 },
 "nbformat": 4,
 "nbformat_minor": 0
}
