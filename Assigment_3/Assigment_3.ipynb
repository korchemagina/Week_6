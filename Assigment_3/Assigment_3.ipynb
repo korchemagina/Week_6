{
 "cells": [
  {
   "cell_type": "markdown",
   "metadata": {},
   "source": [
    "<div style=\"font-size:18pt; padding-top:20px; text-align:center\">ЗАДАНИЕ 3. <b>Корреляция и </b> <span style=\"font-weight:bold; color:green\">NumPy/SciPy</span></div><hr>\n",
    "<div style=\"text-align:right;\">Папулин С.Ю. <span style=\"font-style: italic;font-weight: bold;\">(papulin_hse@mail.ru)</span></div>"
   ]
  },
  {
   "cell_type": "markdown",
   "metadata": {},
   "source": [
    "<a name=\"0\"></a>\n",
    "<div><span style=\"font-size:14pt; font-weight:bold\">Содержание</span>\n",
    "    <ol>\n",
    "        <li><a href=\"#1\">Варианты</a></li>\n",
    "        <li><a href=\"#2\">Задание</a></li>\n",
    "    </ol>\n",
    "</div>"
   ]
  },
  {
   "cell_type": "markdown",
   "metadata": {},
   "source": [
    "<a name=\"1\"></a>\n",
    "<div style=\"display:table; width:100%; padding-top:10px; padding-bottom:10px; border-bottom:1px solid lightgrey\">\n",
    "    <div style=\"display:table-row\">\n",
    "        <div style=\"display:table-cell; width:80%; font-size:14pt; font-weight:bold\">1. Варианты</div>\n",
    "    \t<div style=\"display:table-cell; width:20%; text-align:center; background-color:whitesmoke; border:1px solid lightgrey\"><a href=\"#0\">К содержанию</a></div>\n",
    "    </div>\n",
    "</div>"
   ]
  },
  {
   "cell_type": "markdown",
   "metadata": {},
   "source": [
    "<p><span style=\"color:red; font-weight:bold\">ВНИМАНИЕ!</span> Варианты могут не совпадать с предыдущими ДЗ</p>"
   ]
  },
  {
   "cell_type": "markdown",
   "metadata": {},
   "source": [
    "<p>Чтобы узнать свой вариант, введите Вашу фамилию в соответвующее поле ниже и запустите ячейку:</p>"
   ]
  },
  {
   "cell_type": "code",
   "execution_count": null,
   "metadata": {
    "collapsed": false
   },
   "outputs": [],
   "source": [
    "surname = \"Иванов\" #Ваша фамилия\n",
    "\n",
    "alp = 'абвгдеёжзийклмнопрстуфхцчшщъыьэюя'\n",
    "w = [1, 42, 21, 21, 34,  6, 44, 26, 18, 44, 38, 26, 14, 43,  4, 49, 45,\n",
    "        7, 42, 29,  4,  9, 36, 34, 31, 29,  5, 30,  4, 19, 28, 25, 33]\n",
    "d = dict(zip(alp, w))\n",
    "variant =  sum([d[el] for el in surname.lower()]) % 3 + 1\n",
    "print(\"Ваш вариант - \", variant)"
   ]
  },
  {
   "cell_type": "markdown",
   "metadata": {},
   "source": [
    "<a name=\"2\"></a>\n",
    "<div style=\"display:table; width:100%; padding-top:10px; padding-bottom:10px; border-bottom:1px solid lightgrey\">\n",
    "    <div style=\"display:table-row\">\n",
    "        <div style=\"display:table-cell; width:80%; font-size:14pt; font-weight:bold\">2. Задание</div>\n",
    "    \t<div style=\"display:table-cell; width:20%; text-align:center; background-color:whitesmoke; border:1px solid lightgrey\"><a href=\"#0\">К содержанию</a></div>\n",
    "    </div>\n",
    "</div>"
   ]
  },
  {
   "cell_type": "code",
   "execution_count": null,
   "metadata": {
    "collapsed": true
   },
   "outputs": [],
   "source": [
    "Файл с данными grades.csv"
   ]
  },
  {
   "cell_type": "markdown",
   "metadata": {},
   "source": [
    "<p><b><i>Вариант 1</i></b></p>"
   ]
  },
  {
   "cell_type": "code",
   "execution_count": null,
   "metadata": {
    "collapsed": true
   },
   "outputs": [],
   "source": [
    "X - math_SAT (оценка за математическую часть теста SAT (тест для поступления в бакалавриат)\n",
    "Y - univ_GPA (оценка в университете)"
   ]
  },
  {
   "cell_type": "markdown",
   "metadata": {},
   "source": [
    "<p><b><i>Вариант 2</i></b></p>"
   ]
  },
  {
   "cell_type": "code",
   "execution_count": null,
   "metadata": {
    "collapsed": true
   },
   "outputs": [],
   "source": [
    "X - math_SAT\n",
    "Y - verb_SAT (оценка за вербальную часть теста SAT)"
   ]
  },
  {
   "cell_type": "markdown",
   "metadata": {},
   "source": [
    "<p><b><i>Вариант 3</i></b></p>"
   ]
  },
  {
   "cell_type": "code",
   "execution_count": null,
   "metadata": {
    "collapsed": true
   },
   "outputs": [],
   "source": [
    "X - high_GRA (оценка в школе)\n",
    "Y - univ_GRA"
   ]
  },
  {
   "cell_type": "markdown",
   "metadata": {},
   "source": [
    "<p><b>Задача 1.</b> Корреляционная матрица</p>"
   ]
  },
  {
   "cell_type": "markdown",
   "metadata": {},
   "source": [
    "<div>\n",
    "<p>В соответствии с вариантом постройте корреляционную матрицу следующего вида:</p>\n",
    "<table >\n",
    "<tr>\n",
    "<td width=60, bgcolor=\"grey\"></td>\n",
    "<td width=60, bgcolor=\"lightgrey\">$$X$$</td>\n",
    "<td width=60, bgcolor=\"lightgrey\">$$Y$$</td>\n",
    "<td width=60, bgcolor=\"lightgrey\">$$X\\cdot Y$$</td>\n",
    "<td width=60, bgcolor=\"lightgrey\">$$X/Y$$</td>\n",
    "<td width=60, bgcolor=\"lightgrey\">$$X-Y$$</td>\n",
    "<tr>\n",
    "<tr>\n",
    "<td width=60, bgcolor=\"lightgrey\">$$X$$</td>\n",
    "<td width=60>$$r_{X,X}$$</td>\n",
    "<td width=60>$$r_{X,Y}$$</td>\n",
    "<td width=60>$$r_{X,X\\cdot Y}$$</td>\n",
    "<td width=60>$$r_{X,X/Y}$$</td>\n",
    "<td width=60>$$r_{X,X-Y}$$</td>\n",
    "<tr>\n",
    "<tr>\n",
    "<td width=60, bgcolor=\"lightgrey\">$$Y$$</td>\n",
    "<td width=60>$$r_{Y,X}$$</td>\n",
    "<td width=60>$$r_{Y,Y}$$</td>\n",
    "<td width=60>$$r_{Y,X\\cdot Y}$$</td>\n",
    "<td width=60>$$r_{Y,X/Y}$$</td>\n",
    "<td width=60>$$r_{Y,X-Y}$$</td>\n",
    "<tr>\n",
    "<tr>\n",
    "<td width=60, bgcolor=\"lightgrey\">$$X\\cdot Y$$</td>\n",
    "<td width=60>$$r_{X\\cdot Y,X}$$</td>\n",
    "<td width=60>$$r_{X\\cdot Y,Y}$$</td>\n",
    "<td width=60>$$r_{X\\cdot Y,X\\cdot Y}$$</td>\n",
    "<td width=60>$$r_{X\\cdot Y,X/Y}$$</td>\n",
    "<td width=60>$$r_{X\\cdot Y,X-Y}$$</td>\n",
    "<tr>\n",
    "<tr>\n",
    "<td width=60, bgcolor=\"lightgrey\">$$X/Y$$</td>\n",
    "<td width=60>$$r_{X/Y,X}$$</td>\n",
    "<td width=60>$$r_{X/Y,Y}$$</td>\n",
    "<td width=60>$$r_{X/Y,X\\cdot Y}$$</td>\n",
    "<td width=60>$$r_{X/Y,X/Y}$$</td>\n",
    "<td width=60>$$r_{X/Y,X-Y}$$</td>\n",
    "<tr>\n",
    "<tr>\n",
    "<td width=60, bgcolor=\"lightgrey\">$$X-Y$$</td>\n",
    "<td width=60>$$r_{X-Y,X}$$</td>\n",
    "<td width=60>$$r_{X-Y,Y}$$</td>\n",
    "<td width=60>$$r_{X-Y,X\\cdot Y}$$</td>\n",
    "<td width=60>$$r_{X-Y,X/Y}$$</td>\n",
    "<td width=60>$$r_{X-Y,X-Y}$$</td>\n",
    "<tr>\n",
    "</table>\n",
    "</div>"
   ]
  },
  {
   "cell_type": "code",
   "execution_count": null,
   "metadata": {
    "collapsed": true
   },
   "outputs": [],
   "source": [
    "#Ваш код"
   ]
  },
  {
   "cell_type": "markdown",
   "metadata": {},
   "source": [
    "<p><b>Задача 2.</b> Графики</p>"
   ]
  },
  {
   "cell_type": "markdown",
   "metadata": {},
   "source": [
    "<p>Постройте графики в виде матрицы 2x2 для $(X,Y)$, $(X,X\\cdot Y)$, $(X,X/Y)$ и $(X,X-Y)$. Добавьте в них прямые регрессии для каждого сочетания. Укажите каждого графика его название по сочетанию (X,Y и др.), а в легенде, какие данные он содержит.</p>"
   ]
  },
  {
   "cell_type": "markdown",
   "metadata": {},
   "source": [
    "<p>Наклон и пересечение для прямых можно определить следующим образом:</p>"
   ]
  },
  {
   "cell_type": "code",
   "execution_count": null,
   "metadata": {
    "collapsed": true
   },
   "outputs": [],
   "source": [
    "slope, intercept, r, p_value, std_err = stats.linregress(<X>, <Y>)\n",
    "print(slope, intercept)"
   ]
  },
  {
   "cell_type": "code",
   "execution_count": null,
   "metadata": {
    "collapsed": true
   },
   "outputs": [],
   "source": [
    "#Ваш код"
   ]
  }
 ],
 "metadata": {
  "kernelspec": {
   "display_name": "Python 3",
   "language": "python",
   "name": "python3"
  },
  "language_info": {
   "codemirror_mode": {
    "name": "ipython",
    "version": 3
   },
   "file_extension": ".py",
   "mimetype": "text/x-python",
   "name": "python",
   "nbconvert_exporter": "python",
   "pygments_lexer": "ipython3",
   "version": "3.4.3"
  }
 },
 "nbformat": 4,
 "nbformat_minor": 0
}
