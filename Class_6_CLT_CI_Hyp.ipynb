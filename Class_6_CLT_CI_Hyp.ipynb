{
 "cells": [
  {
   "cell_type": "markdown",
   "metadata": {},
   "source": [
    "<div style=\"font-size:18pt; padding-top:20px; text-align:center\">СЕМИНАР 6. <b>Статистика и </b> <span style=\"font-weight:bold; color:green\">NumPy/SciPy</span></div><hr>\n",
    "<div style=\"text-align:right;\">Папулин С.Ю. <span style=\"font-style: italic;font-weight: bold;\">(papulin_hse@mail.ru)</span></div>"
   ]
  },
  {
   "cell_type": "markdown",
   "metadata": {},
   "source": [
    "<a name=\"0\"></a>\n",
    "<div><span style=\"font-size:14pt; font-weight:bold\">Содержание</span>\n",
    "    <ol>\n",
    "        <li><a href=\"#1\">Основные термины и обозначения</a></li>\n",
    "        <li><a href=\"#2\">Центральная предельная теорема</a>\n",
    "        <li><a href=\"#3\">Оценка параметров генеральной совокупности</a>\n",
    "        <li><a href=\"#4\">Доверительный интервал</a>\n",
    "        <li><a href=\"#5\">Проверка гипотез</a>\n",
    "        <li><a href=\"#6\">Источники</a>\n",
    "        </li>\n",
    "    </ol>\n",
    "</div>"
   ]
  },
  {
   "cell_type": "markdown",
   "metadata": {},
   "source": [
    "<p><b>Подлючение библиотек</b></p>"
   ]
  },
  {
   "cell_type": "code",
   "execution_count": null,
   "metadata": {
    "collapsed": false
   },
   "outputs": [],
   "source": [
    "import numpy as np\n",
    "from scipy import stats\n",
    "import matplotlib.pyplot as plt\n",
    "%matplotlib inline"
   ]
  },
  {
   "cell_type": "markdown",
   "metadata": {},
   "source": [
    "<a name=\"1\"></a>\n",
    "<div style=\"display:table; width:100%; padding-top:10px; padding-bottom:10px; border-bottom:1px solid lightgrey\">\n",
    "    <div style=\"display:table-row\">\n",
    "        <div style=\"display:table-cell; width:80%; font-size:14pt; font-weight:bold\">1. Основные термины и обозначения</div>\n",
    "    \t<div style=\"display:table-cell; width:20%; text-align:center; background-color:whitesmoke; border:1px solid lightgrey\"><a href=\"#0\">К содержанию</a></div>\n",
    "    </div>\n",
    "</div>"
   ]
  },
  {
   "cell_type": "markdown",
   "metadata": {},
   "source": [
    "<p><b>Генеральная совокупность (population)</b></p>"
   ]
  },
  {
   "cell_type": "markdown",
   "metadata": {},
   "source": [
    "<div>\n",
    "<p>Основные характеристики генеральной совокупности (parameters):</p>\n",
    "<ol>\n",
    "<li>среднее значение (population mean) - $\\mu$</li>\n",
    "<li>дисперсия (population variance) - $\\sigma^2$</li>\n",
    "</ol>\n",
    "</div>"
   ]
  },
  {
   "cell_type": "markdown",
   "metadata": {},
   "source": [
    "<p>Среднее генеральной совокупности (population mean)</p>\n",
    "<p> <center>$\\mu = M(X) = \\dfrac{1}{N}\\displaystyle\\sum_{i=1}^{N} x_i$, </center>\n",
    "где $N$ - количество элементов в генеральной выборке.</p>"
   ]
  },
  {
   "cell_type": "markdown",
   "metadata": {},
   "source": [
    "<p>Дисперсия генеральной совокупности (population variance)</p>\n",
    "<p>$$\\sigma^2 = D(X) = \\frac{1}{N}\\displaystyle\\sum_{i=1}^{N} (x_i - \\bar{x})^2$$</p>"
   ]
  },
  {
   "cell_type": "markdown",
   "metadata": {},
   "source": [
    "<p><b>Выборка (sample)</b></p>"
   ]
  },
  {
   "cell_type": "markdown",
   "metadata": {},
   "source": [
    "<div>\n",
    "<p>Основные статистики выборки (statistics):</p>\n",
    "<ol>\n",
    "<li>среднее значение (sample mean) - $\\bar{x}$</li>\n",
    "<li>дисперсия (sample variance) - $s^2$</li>\n",
    "</ol>\n",
    "</div>"
   ]
  },
  {
   "cell_type": "markdown",
   "metadata": {},
   "source": [
    "<p>Выборочное среднее значение (sample mean)</p>\n",
    "<p><center>$\\bar{x}=\\dfrac{1}{n}\\displaystyle\\sum_{i=1}^{n} x_i$,</center>\n",
    "где $n$ - количество элементов в выборке (размер выборки - sample size).</p>"
   ]
  },
  {
   "cell_type": "markdown",
   "metadata": {},
   "source": [
    "<div>\n",
    "<p>Выборочная дисперсия (sample variance)</p>\n",
    "<p style=\"text-align:center\">$s^2 = \\dfrac{1}{n}\\displaystyle\\sum_{i=1}^{n} (x_i - \\bar{x})^2$ для смещенной оценки (biased estimate),</p>\n",
    "<p style=\"text-align:center\">$\\hat{s}^2 = \\dfrac{1}{n-1}\\displaystyle\\sum_{i=1}^{n} (x_i - \\bar{x})^2$ для несмещенной оценки (unbiased estimate)</p>\n",
    "<p style=\"text-align:center\">или</p>\n",
    "<p style=\"text-align:center\">$s_*^2 = \\dfrac{1}{n}\\displaystyle\\sum_{i=1}^{n} (x_i - \\mu)^2$ для <i>эффективной</i> оценки</p>\n",
    "<p>Как правило, принимаем $s^2 \\approx \\hat{s}^2$ при $n > 30\\text{-}40$ <p>\n",
    "</div>"
   ]
  },
  {
   "cell_type": "markdown",
   "metadata": {},
   "source": [
    "<p><b>Выборочное распределение (sampling distribution)</b></p>"
   ]
  },
  {
   "cell_type": "markdown",
   "metadata": {},
   "source": [
    "<div>\n",
    "<p>Основные характеристики выборочного распределения:</p>\n",
    "<ol>\n",
    "<li>среднее значение - $\\mu_\\bar{x}$ и $\\mu_{s^2}$</li>\n",
    "<li>дисперсия - $\\sigma_\\bar{x}^2$ и $\\sigma_{s^2}^2$</li>\n",
    "</ol>\n",
    "</div>"
   ]
  },
  {
   "cell_type": "markdown",
   "metadata": {},
   "source": [
    "<a name=\"2\"></a>\n",
    "<div style=\"display:table; width:100%; padding-top:10px; padding-bottom:10px; border-bottom:1px solid lightgrey\">\n",
    "    <div style=\"display:table-row\">\n",
    "        <div style=\"display:table-cell; width:80%; font-size:14pt; font-weight:bold\">2. Центральная предельная теорема</div>\n",
    "    \t<div style=\"display:table-cell; width:20%; text-align:center; background-color:whitesmoke; border:1px solid lightgrey\"><a href=\"#0\">К содержанию</a></div>\n",
    "    </div>\n",
    "</div>"
   ]
  },
  {
   "cell_type": "markdown",
   "metadata": {},
   "source": [
    "<p>Центральная предельная теоремa - группа теорем, определяющих условия возникновения нормального закона распределения <b>/ <a href=\"https://ru.wikipedia.org/wiki/%D0%A6%D0%B5%D0%BD%D1%82%D1%80%D0%B0%D0%BB%D1%8C%D0%BD%D0%B0%D1%8F_%D0%BF%D1%80%D0%B5%D0%B4%D0%B5%D0%BB%D1%8C%D0%BD%D0%B0%D1%8F_%D1%82%D0%B5%D0%BE%D1%80%D0%B5%D0%BC%D0%B0\">wiki</a></b></p>"
   ]
  },
  {
   "cell_type": "markdown",
   "metadata": {},
   "source": [
    "<p><b>Пример для среднего значения</b></p>"
   ]
  },
  {
   "cell_type": "markdown",
   "metadata": {},
   "source": [
    "<p>Исходный закон распределение случайной величины</p>"
   ]
  },
  {
   "cell_type": "code",
   "execution_count": null,
   "metadata": {
    "collapsed": false
   },
   "outputs": [],
   "source": [
    "x = np.arange(10)\n",
    "\n",
    "fr = np.array([10, 20, 30, 20, 10, 15, 10, 20, 40, 10])\n",
    "pk = fr / fr.sum()\n",
    "\n",
    "myDistr = stats.rv_discrete(name='myDistribution', values=(x, pk))"
   ]
  },
  {
   "cell_type": "code",
   "execution_count": null,
   "metadata": {
    "collapsed": true
   },
   "outputs": [],
   "source": [
    "y_pmf = myDistr.pmf(x) #закон распределения случайной величины\n",
    "y_cdf = myDistr.cdf(x) #функция распределения случайной величины"
   ]
  },
  {
   "cell_type": "code",
   "execution_count": null,
   "metadata": {
    "collapsed": false
   },
   "outputs": [],
   "source": [
    "plt.figure(1, figsize=[12,4])\n",
    "\n",
    "plt.subplot(1,2,1)\n",
    "plt.title(\"pmf\")\n",
    "plt.plot(x, y_pmf, \"o-\")\n",
    "plt.grid(True)\n",
    "\n",
    "plt.subplot(1,2,2)\n",
    "plt.title(\"cdf\")\n",
    "plt.plot(x, y_cdf, \"o-\")\n",
    "plt.grid(True)"
   ]
  },
  {
   "cell_type": "markdown",
   "metadata": {},
   "source": [
    "<p>Характеристики (параметры) исходного распределения: $M(X)$, $D(X)$ и $\\sigma$</p>"
   ]
  },
  {
   "cell_type": "code",
   "execution_count": null,
   "metadata": {
    "collapsed": false
   },
   "outputs": [],
   "source": [
    "m = myDistr.mean()\n",
    "m"
   ]
  },
  {
   "cell_type": "code",
   "execution_count": null,
   "metadata": {
    "collapsed": false
   },
   "outputs": [],
   "source": [
    "v = myDistr.var()\n",
    "v"
   ]
  },
  {
   "cell_type": "code",
   "execution_count": null,
   "metadata": {
    "collapsed": false
   },
   "outputs": [],
   "source": [
    "sigma = myDistr.std()\n",
    "sigma"
   ]
  },
  {
   "cell_type": "markdown",
   "metadata": {},
   "source": [
    "<p>Разовая выборка размером $n$</p>"
   ]
  },
  {
   "cell_type": "code",
   "execution_count": null,
   "metadata": {
    "collapsed": false
   },
   "outputs": [],
   "source": [
    "n = 10\n",
    "\n",
    "myRD = myDistr.rvs(size = n)"
   ]
  },
  {
   "cell_type": "code",
   "execution_count": null,
   "metadata": {
    "collapsed": false
   },
   "outputs": [],
   "source": [
    "xy = stats.itemfreq(myRD)\n",
    "xy"
   ]
  },
  {
   "cell_type": "code",
   "execution_count": null,
   "metadata": {
    "collapsed": false
   },
   "outputs": [],
   "source": [
    "xx = xy[:,0]\n",
    "yy_pmf = xy[:,1] / len(myRD)\n",
    "yy_pmf"
   ]
  },
  {
   "cell_type": "code",
   "execution_count": null,
   "metadata": {
    "collapsed": false
   },
   "outputs": [],
   "source": [
    "plt.figure(1, figsize=[15,4])\n",
    "\n",
    "plt.subplot(1,3,1)\n",
    "plt.title(\"Histogram\")\n",
    "plt.hist(myRD, 30, normed=False, color=\"green\", width=0.5)\n",
    "\n",
    "plt.vlines(myRD, -0.2, 0.2, lw=2, color=\"yellow\")\n",
    "plt.plot(myRD, np.zeros(len(myRD)), \"o\", color=\"orange\")\n",
    "plt.grid(True)\n",
    "\n",
    "plt.subplot(1,3,2)\n",
    "plt.title(\"Normalized bars\")\n",
    "plt.bar(xx-0.25, yy_pmf, width=0.5, color=\"orange\")\n",
    "plt.xlim([-1, 10])\n",
    "plt.grid(True)\n",
    "\n",
    "plt.vlines(myRD, -0.02, 0.02, lw=2, color=\"yellow\")\n",
    "plt.plot(myRD, np.zeros(len(myRD)), \"o\", color=\"orange\")\n",
    "plt.grid(True)\n",
    "\n",
    "plt.subplot(1,3,3)\n",
    "plt.title(\"Normalized bars vs pmf\")\n",
    "plt.bar(xx-0.25, yy_pmf, width=0.5, color=\"orange\")\n",
    "plt.plot(x, y_pmf,\"go-\")\n",
    "plt.xlim([-1, 10])\n",
    "\n",
    "plt.vlines(myRD, -0.02, 0.02, lw=2, color=\"yellow\")\n",
    "plt.plot(myRD, np.zeros(len(myRD)), \"o\", color=\"orange\")\n",
    "\n",
    "plt.grid(True)\n",
    "\n",
    "plt.show()"
   ]
  },
  {
   "cell_type": "markdown",
   "metadata": {},
   "source": [
    "<p>Среднее значение выборки</p>"
   ]
  },
  {
   "cell_type": "code",
   "execution_count": null,
   "metadata": {
    "collapsed": false
   },
   "outputs": [],
   "source": [
    "def plotGr_MyD(myd, num, x):\n",
    "    xy = stats.itemfreq(myd)\n",
    "    xx = xy[:,0] - 0.25\n",
    "    yy_pmf = xy[:,1] / len(myd)\n",
    "    \n",
    "    plt.subplot(2,2,num)\n",
    "    plt.annotate(r'Sample Mean: $\\bar{x}$ = ' +  str(myd.mean()), (0.1,0.9), fontsize=15, xycoords='axes fraction')\n",
    "    plt.title(\"Sample Size = \"+str(10**(num)))\n",
    "    \n",
    "    plt.bar(xx, yy_pmf, width=0.5, color=\"orange\")\n",
    "    plt.plot(x, myDistr.pmf(x),\"go-\")\n",
    "    plt.grid(True)\n",
    "\n",
    "myds = [myDistr.rvs(size=10**i) for i in range(1,5)]\n",
    "\n",
    "plt.figure(1, figsize=[12,10])\n",
    "[plotGr_MyD(myds[i-1], i, x) for i in range(1, 5)]\n",
    "plt.show()\n",
    "\n",
    "#plt.figure(1, figsize=[15,4])\n",
    "\n",
    "#plt.subplot(1,3,1)\n",
    "#plt.title(\"Histogram\")\n",
    "#plt.hist(myRD-0.25, 30, normed=False, color=\"green\", width=0.5)\n",
    "#plt.hist(xm, 30)\n",
    "#plt.show()"
   ]
  },
  {
   "cell_type": "code",
   "execution_count": null,
   "metadata": {
    "collapsed": false
   },
   "outputs": [],
   "source": [
    "myRD.mean()"
   ]
  },
  {
   "cell_type": "markdown",
   "metadata": {},
   "source": [
    "$m$ выборок размером n"
   ]
  },
  {
   "cell_type": "code",
   "execution_count": null,
   "metadata": {
    "collapsed": false
   },
   "outputs": [],
   "source": [
    "n = 10 #размер выборки (sample size)\n",
    "m = 10 #количество выборок (number of samples)\n",
    "\n",
    "xm = np.array([myDistr.rvs(size=n).mean() for _ in range(m)])\n",
    "xm"
   ]
  },
  {
   "cell_type": "code",
   "execution_count": null,
   "metadata": {
    "collapsed": false
   },
   "outputs": [],
   "source": [
    "def plotGr_MyDMean(myd, num, n):\n",
    "    plt.subplot(2,2,num)\n",
    "    \n",
    "    plt.title(\"Number of Samples = \"+str(10**(num))+\", Sample Size = \"+str(n))\n",
    "    plt.annotate(r'Mean of Samples Mean: $\\hat{\\mu}_{\\bar{x}}$ = ' +  str(np.mean(myd)), \n",
    "                 (0.05,0.95), fontsize=12, xycoords='axes fraction')\n",
    "    plt.annotate(r'Var of Samples Mean: $\\hat{\\sigma}_{\\bar{x}}$ = ' +  str(np.var(myd)), \n",
    "                 (0.05,0.90), fontsize=12, xycoords='axes fraction')\n",
    "    plt.hist(myd, 30, color=\"orange\", normed=True)\n",
    "    #plt.plot(x, myDistr.pmf(x),\"go-\")\n",
    "    plt.grid(True)\n",
    "\n",
    "myMeands = [[myDistr.rvs(size=n).mean() for _ in range(10**i)] for i in range(1,5)]\n",
    "plt.figure(1, figsize=[12,10])\n",
    "[plotGr_MyDMean(myMeands[i-1], i, n) for i in range(1, 5)]\n",
    "plt.show()"
   ]
  },
  {
   "cell_type": "code",
   "execution_count": null,
   "metadata": {
    "collapsed": false
   },
   "outputs": [],
   "source": [
    "n = 100\n",
    "\n",
    "myMeands = [[myDistr.rvs(size=n).mean() for _ in range(10**i)] for i in range(1,5)]\n",
    "plt.figure(1, figsize=[12,10])\n",
    "[plotGr_MyDMean(myMeands[i-1], i, n) for i in range(1, 5)]\n",
    "plt.show()"
   ]
  },
  {
   "cell_type": "code",
   "execution_count": null,
   "metadata": {
    "collapsed": false
   },
   "outputs": [],
   "source": [
    "m = 1000\n",
    "\n",
    "def plotGr_MyDMeanSampleSize(myd, num, n):\n",
    "    plt.subplot(2,2,n)\n",
    "    \n",
    "    plt.title(\"Number of Samples = \"+str(num)+\", Sample Size = \"+str(10**(n)))\n",
    "    plt.annotate(r'Mean of Samples Mean: $\\hat{\\mu}_{\\bar{x}}$ = ' +  str(np.mean(myd)), \n",
    "                 (0.05,0.95), fontsize=12, xycoords='axes fraction')\n",
    "    plt.annotate(r'Var of Samples Mean: $\\hat{\\sigma}_{\\bar{x}}$ = ' +  str(np.var(myd)), \n",
    "                 (0.05,0.90), fontsize=12, xycoords='axes fraction')\n",
    "    plt.hist(myd, 30, color=\"orange\", normed=True)\n",
    "    #plt.plot(x, myDistr.pmf(x),\"go-\")\n",
    "    plt.grid(True)\n",
    "\n",
    "myMeands = [[myDistr.rvs(size=10**i).mean() for _ in range(m)] for i in range(1,5)]\n",
    "plt.figure(1, figsize=[12,10])\n",
    "[plotGr_MyDMeanSampleSize(myMeands[i-1], m, i) for i in range(1, 5)]\n",
    "plt.show()"
   ]
  },
  {
   "cell_type": "markdown",
   "metadata": {},
   "source": [
    "<a name=\"3\"></a>\n",
    "<div style=\"display:table; width:100%; padding-top:10px; padding-bottom:10px; border-bottom:1px solid lightgrey\">\n",
    "    <div style=\"display:table-row\">\n",
    "        <div style=\"display:table-cell; width:80%; font-size:14pt; font-weight:bold\">3. Оценка параметров генеральной совокупности</div>\n",
    "    \t<div style=\"display:table-cell; width:20%; text-align:center; background-color:whitesmoke; border:1px solid lightgrey\"><a href=\"#0\">К содержанию</a></div>\n",
    "    </div>\n",
    "</div>"
   ]
  },
  {
   "cell_type": "markdown",
   "metadata": {},
   "source": [
    "<a name = \"3a\"></a>\n",
    "<div style = \"display:table; width:100%\">\n",
    "    <div style = \"display:table-row\">\n",
    "        <div style = \"display:table-cell; width:80%; font-style:italic; font-weight:bold; font-size:12pt\">\n",
    "            a. Оценка среднего значения генеральной совокупности $\\mu$ по данным выборки\n",
    "        </div>\n",
    "        <div style=\"display:table-cell; border:1px solid lightgrey; width:20%\">\n",
    "            <div style = \"display:table-cell; width:10%; text-align:center; background-color:whitesmoke;\">\n",
    "                <a href=\"#3\">Назад</a>\n",
    "            </div>\n",
    "            <div style = \"display:table-cell; width:10%; text-align:center;\">\n",
    "                <a href=\"#3b\">Далее</a>\n",
    "            </div>\n",
    "        </div>\n",
    "    </div>\n",
    "</div>"
   ]
  },
  {
   "cell_type": "markdown",
   "metadata": {},
   "source": [
    "<p><i>Для повторной выборки (with replacement)</i></p>"
   ]
  },
  {
   "cell_type": "markdown",
   "metadata": {},
   "source": [
    "<p>Выборочное среднее значение (sample mean) $\\bar{x}$ есть несмещенная и состоятельная оценка средней генеральной совокупности $\\mu$, т.е.</p>\n",
    "<p> <center>$\\mu_{\\bar{x}} = M(\\bar{x}) = \\mu$, </center><br>\n",
    "где $\\mu_{\\bar{x}}$ - cреднее значение выборочного распределения средних (mean of sampling distribution of the sample mean).</p>"
   ]
  },
  {
   "cell_type": "markdown",
   "metadata": {},
   "source": [
    "<p>Дисперсия выборочного распределения средних (variance of sampling distribution of the sample mean)</p>\n",
    "<p>$$\\sigma_{\\bar{x}}^2 = D(\\bar{x})= \\frac{\\sigma^2}{n}$$</p>"
   ]
  },
  {
   "cell_type": "markdown",
   "metadata": {},
   "source": [
    "<p>Стандартная ошибка выборки (standard error of the mean - $SE_\\bar{x}$)</p>\n",
    "$$SE_\\bar{x} = \\sqrt{\\dfrac{\\sigma^2}{n}} \\approx \\sqrt{\\dfrac{s^2}{n}}$$"
   ]
  },
  {
   "cell_type": "markdown",
   "metadata": {},
   "source": [
    "<a name = \"3b\"></a>\n",
    "<div style = \"display:table; width:100%\">\n",
    "    <div style = \"display:table-row\">\n",
    "        <div style = \"display:table-cell; width:80%; font-style:italic; font-weight:bold; font-size:12pt\">\n",
    "            b. Оценка дисперсии генеральной совокупности $\\sigma$  по данным выборки \n",
    "        </div>\n",
    "        <div style=\"display:table-cell; border:1px solid lightgrey; width:20%\">\n",
    "            <div style = \"display:table-cell; width:10%; text-align:center; background-color:whitesmoke;\">\n",
    "                <a href=\"#3a\">Назад</a>\n",
    "            </div>\n",
    "            <div style = \"display:table-cell; width:10%; text-align:center;\">\n",
    "                <a href=\"#4\">Далее</a>\n",
    "            </div>\n",
    "        </div>\n",
    "    </div>\n",
    "</div>"
   ]
  },
  {
   "cell_type": "markdown",
   "metadata": {},
   "source": [
    "<p><i>Для повторной выборки (with replacement)</i></p>"
   ]
  },
  {
   "cell_type": "markdown",
   "metadata": {},
   "source": [
    "<p>Выборочная дисперсия (variance mean) $s^2$ есть смещенная и состоятельная оценка дисперсии генеральной совокупности выборки $\\sigma$, т.е.</p>\n",
    "<p>$$\\mu_{s^2} = M(s^2)= \\dfrac{n-1}{n}\\sigma^2$$ </p>"
   ]
  },
  {
   "cell_type": "markdown",
   "metadata": {},
   "source": [
    "<p>Выборочная дисперсия $\\hat{s}^2$ есть несмещенная и состоятельная оценка дисперсии генеральной совокупности выборки $\\sigma$, т.е.</p>\n",
    "<p>$$\\mu_{\\hat{s}^2}  = M(\\hat{s}^2) = \\sigma^2$$</p>"
   ]
  },
  {
   "cell_type": "markdown",
   "metadata": {},
   "source": [
    "<p>При больших $n$ $\\text{  } $$\\mu_{s^2}\\approx \\mu_{\\hat{s}^2}$</p>"
   ]
  },
  {
   "cell_type": "markdown",
   "metadata": {},
   "source": [
    "<a name=\"4\"></a>\n",
    "<div style=\"display:table; width:100%; padding-top:10px; padding-bottom:10px; border-bottom:1px solid lightgrey\">\n",
    "    <div style=\"display:table-row\">\n",
    "        <div style=\"display:table-cell; width:80%; font-size:14pt; font-weight:bold\">4. Доверительный интервал</div>\n",
    "    \t<div style=\"display:table-cell; width:20%; text-align:center; background-color:whitesmoke; border:1px solid lightgrey\"><a href=\"#0\">К содержанию</a></div>\n",
    "    </div>\n",
    "</div>"
   ]
  },
  {
   "cell_type": "markdown",
   "metadata": {},
   "source": [
    "<p>Оценка параметра (доли, среднего значения, дисперсии) генеральной совокупности (population) по данным выборки (sample)</p>"
   ]
  },
  {
   "cell_type": "markdown",
   "metadata": {},
   "source": [
    "<p><i><b>Доверительный интервал для генеральной средней</b></i></p>\n",
    "<p><center>$\\bar{x} - \\Delta \\leq \\mu_\\bar{x} \\leq \\bar{x} - \\Delta$, </center><br>\n",
    "где $\\Delta$ - предельная ошибка (margin of error).</p>"
   ]
  },
  {
   "cell_type": "markdown",
   "metadata": {},
   "source": [
    "<p><i>Уровень доверия</i> (confidence level) $\\gamma$</p>\n",
    "<p>Вероятность того, что отклонение выборочной средней $\\bar{x}$ не превзойдет число $\\Delta$</p>\n",
    "<p>$$P(\\left|\\bar{x} - \\mu_{\\bar{x}}\\right|\\leq \\Delta)=\\gamma$$</p>"
   ]
  },
  {
   "cell_type": "markdown",
   "metadata": {},
   "source": [
    "<p><b><i>Интерпретация доверительного интервала</i></b></p>\n",
    "<p style=\"text-align:center\">X%-ая уверенность, что параметр генеральной совокупности (например, среднее значение) лежит в определенном интервале. </p>\n",
    "\n",
    "<p>Уровень доверия определяет насколько вероятно, что параметр <i>накрывается</i> доверительным интервалом</p>\n",
    "<p><span style=\"color:red; font-weight:bold\">ВАЖНО!</span> Это не означает, что интервал <i>содержит</i> параметр генеральной совокупности с определенной вероятностью</p>"
   ]
  },
  {
   "cell_type": "markdown",
   "metadata": {},
   "source": [
    "<div>\n",
    "<p><i><b>Доверительный интервал для нормального выборочного распределения:</b></i></p>\n",
    "<ul>\n",
    "<li>наблюдения в выборке независимы (размер выборки меньше 10% от генеральной совокупности)</li>\n",
    "<li>большой размер выборки ($n$ больше 30)</li>\n",
    "<li>pаспределение генеральной совокупности не имеет ярко выраженной скошенности (not strongly skewed)</li>\n",
    "</ul>\n",
    "</div>"
   ]
  },
  {
   "cell_type": "markdown",
   "metadata": {},
   "source": [
    "<p>Доверительный интервал для среднего</p>\n",
    "<p>$$\\bar{x} - z \\cdot SE_\\bar{x}  \\leq \\mu_\\bar{x} \\leq \\bar{x} + z \\cdot SE_\\bar{x}$$</p>"
   ]
  },
  {
   "cell_type": "markdown",
   "metadata": {},
   "source": [
    "Если известны размер выборки $n$, выборочное среднее значение $\\bar{x}$, выборочная дисперсия $s^2$ и среднее значение  $\\mu$, то вероятность того, что среденее значение случайной выборки $\\bar{X}$ будет меньше или равно $\\bar{x}$, вычисляется следующим образом"
   ]
  },
  {
   "cell_type": "markdown",
   "metadata": {},
   "source": [
    "<center><div style=\"display:table; width:35%\">\n",
    "    <div style=\"display:table-row;\">\n",
    "        <div style=\"display:table-cell; width:10%; padding:10px;\">1)</div>\n",
    "        <div style=\"display:table-cell; width:90%; padding:10px;\">$SE_\\bar{x} = \\sqrt{\\dfrac{\\sigma^2}{n}} \\approx \\sqrt{\\dfrac{s^2}{n}}$</div>\n",
    "    </div>\n",
    "        <div style=\"display:table-row;\">\n",
    "        <div style=\"display:table-cell; width:10%; padding:10px;\">2)</div>\n",
    "        <div style=\"display:table-cell; width:90%; padding:10px;\">$z = \\dfrac{\\bar{x} - \\mu_{\\bar{x}}}{\\sigma_\\bar{x}} = \\dfrac{\\bar{x} - \\mu}{SE_\\bar{x}}$</div>\n",
    "    </div>\n",
    "        <div style=\"display:table-row;\">\n",
    "        <div style=\"display:table-cell; width:10%; padding:10px;\">3)</div>\n",
    "        <div style=\"display:table-cell; width:90%; padding:10px;\">$P(\\bar{X} \\leq \\bar{x})=P(Z \\leq z)=\\Phi_N(z)$</div>\n",
    "    </div>\n",
    "</div></center>"
   ]
  },
  {
   "cell_type": "markdown",
   "metadata": {},
   "source": [
    "Если задана передельная ошибка $\\Delta$ и известны размер выборки $n$, выборочное среднее значение $\\bar{x}$ и выборочная дисперсия $s^2$, то доверительная вероятность $\\gamma$ вычисляется следующим образом:"
   ]
  },
  {
   "cell_type": "markdown",
   "metadata": {},
   "source": [
    "<center><div style=\"display:table; width:35%\">\n",
    "    <div style=\"display:table-row;\">\n",
    "        <div style=\"display:table-cell; width:10%; padding:10px;\">1)</div>\n",
    "        <div style=\"display:table-cell; width:90%; padding:10px;\">$SE_\\bar{x} = \\sqrt{\\dfrac{\\sigma^2}{n}} \\approx \\sqrt{\\dfrac{s^2}{n}}$</div>\n",
    "    </div>\n",
    "        <div style=\"display:table-row;\">\n",
    "        <div style=\"display:table-cell; width:10%; padding:10px;\">2)</div>\n",
    "        <div style=\"display:table-cell; width:90%; padding:10px;\">$z = \\dfrac{\\bar{x} - \\mu_{\\bar{x}}}{\\sigma_\\bar{x}} = \\dfrac{\\bar{x} - \\mu_{\\bar{x}}}{SE_\\bar{x}}=\\dfrac{\\Delta}{SE_\\bar{x}}$</div>\n",
    "    </div>\n",
    "        <div style=\"display:table-row;\">\n",
    "        <div style=\"display:table-cell; width:10%; padding:10px;\">3)</div>\n",
    "        <div style=\"display:table-cell; width:90%; padding:10px;\">$P(\\left|\\bar{x} - \\mu_{\\bar{x}}\\right|\\leq \\Delta)=\\Phi_N(z)-\\Phi_N(-z)=\\gamma$</div>\n",
    "    </div>\n",
    "</div></center>"
   ]
  },
  {
   "cell_type": "markdown",
   "metadata": {},
   "source": [
    "<p>Если задан уровень доверия $\\gamma$ и известны размер выборки $n$, выборочное среднее значение $\\bar{x}$ и выборочная дисперсия $s^2$, то доверительный интервал рассчитывается следующим образом:</p>"
   ]
  },
  {
   "cell_type": "markdown",
   "metadata": {},
   "source": [
    "<center><div style=\"display:table; width:30%\">\n",
    "    <div style=\"display:table-row;\">\n",
    "        <div style=\"display:table-cell; width:10%; padding:10px;\">1)</div>\n",
    "        <div style=\"display:table-cell; width:90%; padding:10px;\">$SE_\\bar{x} = \\sqrt{\\dfrac{\\sigma^2}{n}} \\approx \\sqrt{\\dfrac{s^2}{n}}$</div>\n",
    "    </div>\n",
    "        <div style=\"display:table-row;\">\n",
    "        <div style=\"display:table-cell; width:10%; padding:10px;\">2)</div>\n",
    "        <div style=\"display:table-cell; width:90%; padding:10px;\">$\\Phi_N(z) =0.5 + \\dfrac{\\gamma}{2} \\to z$</div>\n",
    "    </div>\n",
    "        <div style=\"display:table-row;\">\n",
    "        <div style=\"display:table-cell; width:10%; padding:10px;\">3)</div>\n",
    "        <div style=\"display:table-cell; width:90%; padding:10px;\">$\\bar{x} - z \\cdot SE_\\bar{x}  \\leq \\mu_\\bar{x} \\leq \\bar{x} + z \\cdot SE_\\bar{x}$</div>\n",
    "    </div>\n",
    "</div></center>"
   ]
  },
  {
   "cell_type": "markdown",
   "metadata": {},
   "source": [
    "<p>Графики</p>"
   ]
  },
  {
   "cell_type": "code",
   "execution_count": null,
   "metadata": {
    "collapsed": false
   },
   "outputs": [],
   "source": [
    "def getGraphOne(xran, x_cr, typefunc=0, df=5, lm=0):\n",
    "    x = np.linspace(xran[0], xran[1], 1000)\n",
    "    y = []\n",
    "    \n",
    "    if typefunc == 1:\n",
    "        y = stats.t.pdf(x, df=df)\n",
    "        pr = np.around(stats.t.cdf(x_cr, df=df), decimals=3)\n",
    "        \n",
    "        if lm == 1:\n",
    "            plt.axvspan(x_cr, xran[1], color=\"g\", alpha=0.1)\n",
    "            plt.plot(x, y, lw=2, color=\"green\")\n",
    "            plt.title(\"t-distribution\")\n",
    "            plt.fill_between(x, 0, y, where=x>x_cr, facecolor='green', alpha=0.5)\n",
    "            plt.axvline(x_cr, color=\"black\", linestyle=\"--\")\n",
    "\n",
    "            ##xx = (xran[0] - x_cr) / 2 + x_cr\n",
    "            ##yy = stats.t.pdf(xx, df=df) / 2\n",
    "            plt.annotate(\"$1-F_{one}(\"+str(np.around(x_cr, decimals=3))+\")=\"+str(1-pr)+\"$\", fontsize=14, xycoords='data',\n",
    "                        xytext=(-1.5, 0.1), xy=(-2.6, 0.01)) #, arrowprops=dict(arrowstyle=\"->\", connectionstyle=\"arc3\"))            \n",
    "        else:\n",
    "            plt.axvspan(xran[0], x_cr, color=\"g\", alpha=0.1)\n",
    "            plt.plot(x, y, lw=2, color=\"green\")\n",
    "            plt.title(\"t-distribution\")\n",
    "            plt.fill_between(x, 0, y, where=x<= x_cr, facecolor='green', alpha=0.5)\n",
    "            plt.axvline(x_cr, color=\"black\", linestyle=\"--\")\n",
    "\n",
    "            ##xx = (xran[0] - x_cr) / 2 + x_cr\n",
    "            ##yy = stats.t.pdf(xx, df=df) / 2\n",
    "            plt.annotate(\"$F_{one}(\"+str(np.around(x_cr, decimals=3))+\")=\"+str(pr)+\"$\", fontsize=14, xycoords='data',\n",
    "                        xytext=(-1.5, 0.1), xy=(-2.6, 0.01)) #, arrowprops=dict(arrowstyle=\"->\", connectionstyle=\"arc3\"))\n",
    "        \n",
    "\n",
    "    else:\n",
    "        y = stats.norm.pdf(x, loc=0, scale=1)\n",
    "        pr = np.around(stats.norm.cdf(x_cr, loc=0, scale=1), decimals=3)\n",
    "    \n",
    "        if lm == 1:\n",
    "            plt.axvspan(x_cr, xran[1], color=\"g\", alpha=0.1)\n",
    "            plt.plot(x, y, lw=2, color=\"green\")\n",
    "            plt.title(\"Standard Normal Distribution\")\n",
    "\n",
    "            plt.fill_between(x, 0, y, where=x>x_cr, facecolor='green', alpha=0.5)\n",
    "            plt.axvline(x_cr, color=\"black\", linestyle=\"--\")\n",
    "\n",
    "            plt.annotate(\"$1-\\Phi_N(\"+str(np.around(x_cr, decimals=3))+\")=\"+str(1-pr)+\"$\", (0.35,0.4), \n",
    "                         fontsize=14, xycoords='axes fraction')\n",
    "\n",
    "        else:\n",
    "            plt.axvspan(xran[0], x_cr, color=\"g\", alpha=0.1)\n",
    "            plt.plot(x, y, lw=2, color=\"green\")\n",
    "            plt.title(\"Standard Normal Distribution\")\n",
    "\n",
    "            plt.fill_between(x, 0, y, where=x<=x_cr, facecolor='green', alpha=0.5)\n",
    "            plt.axvline(x_cr, color=\"black\", linestyle=\"--\")\n",
    "\n",
    "            plt.annotate(\"$\\Phi_N(\"+str(np.around(x_cr, decimals=3))+\")=\"+str(pr)+\"$\", (0.35,0.4), \n",
    "                         fontsize=14, xycoords='axes fraction')\n",
    "    \n",
    "    plt.grid(True)\n",
    "    \n",
    "def getGraphTwo(xran, x_cr, typefunc=0, df=5, lm=0):\n",
    "    x = np.linspace(xran[0], xran[1], 1000)\n",
    "    y = []\n",
    "    \n",
    "    sdFunc = {0: stats.norm(loc=0, scale=1), 1: stats.t(df=df)}\n",
    "    x_cr = abs(x_cr) \n",
    "    y = sdFunc[typefunc].pdf(x)   \n",
    "    \n",
    "    if lm == 0:\n",
    "        pr = np.around(sdFunc[typefunc].cdf(x_cr) - sdFunc[typefunc].cdf(-x_cr), decimals=3)\n",
    "        plt.axvspan(-x_cr, x_cr, color=\"g\", alpha=0.1)\n",
    "        plt.plot(x, y, lw=2, color=\"green\")\n",
    "        plt.title(\"Standard Normal Distribution\") if typefunc==0 else plt.title(\"t-distribution\")\n",
    "        \n",
    "        plt.fill_between(x, 0, y, where=y>sdFunc[typefunc].pdf(x_cr), facecolor='green', alpha=0.5)\n",
    "        plt.axvline(-x_cr, color=\"black\", linestyle=\"--\")\n",
    "        plt.axvline(x_cr, color=\"black\", linestyle=\"--\")\n",
    "        \n",
    "        plt.annotate(\"$\\gamma(\"+str(np.around(x_cr, decimals=3))+\")=\"+str(pr)+\"$\", (0.35,0.4), \n",
    "                     fontsize=14, xycoords='axes fraction')     \n",
    "    \n",
    "    elif lm == 1:\n",
    "        pr = np.around(2*sdFunc[typefunc].cdf(-abs(x_cr)), decimals=3)\n",
    "        plt.plot(x, y, lw=2, color=\"green\")\n",
    "        plt.axvspan(xran[0], -x_cr, color=\"g\", alpha=0.1)\n",
    "        plt.axvspan(x_cr, xran[1], color=\"g\", alpha=0.1)\n",
    "        plt.title(\"Standard Normal Distribution\") if typefunc==0 else plt.title(\"t-distribution\")\n",
    "        \n",
    "        plt.fill_between(x, 0, y, where=y<sdFunc[typefunc].pdf(x_cr), facecolor='green', alpha=0.5)\n",
    "        plt.axvline(-x_cr, color=\"black\", linestyle=\"--\")\n",
    "        plt.axvline(x_cr, color=\"black\", linestyle=\"--\")\n",
    "        \n",
    "        if typefunc == 1: \n",
    "            plt.annotate(\"$F_{two}(\"+str(np.around(x_cr, decimals=3))+\")=\"+str(pr)+\"$\", fontsize=14, \n",
    "                     xy=(-2.6, 0.01), xycoords='data', xytext=(-1.5, 0.1))#, \n",
    "                             #arrowprops=dict(arrowstyle=\"->\", connectionstyle=\"arc3\"))\n",
    "                #plt.annotate(\"\", fontsize=14, xy=(2.6, 0.01), xycoords='data',\n",
    "                #            xytext=(0.5, 0.09))#, arrowprops=dict(arrowstyle=\"->\", connectionstyle=\"arc3\"))\n",
    "        else:\n",
    "            plt.annotate(\"$2\\cdot(1 - \\Phi(\"+str(np.around(x_cr, decimals=3))+\"))=\"+str(pr)+\"$\", \n",
    "                         (0.35,0.4), fontsize=14, xycoords='axes fraction')\n",
    "\n",
    "        #plt.annotate(\"$\\gamma=0.95$\", (0.35,0.2), fontsize=14, xycoords='axes fraction')\n",
    "        \n",
    "    plt.grid(True)"
   ]
  },
  {
   "cell_type": "code",
   "execution_count": null,
   "metadata": {
    "collapsed": false
   },
   "outputs": [],
   "source": [
    "plt.figure(1, figsize=[12, 4])\n",
    "\n",
    "plt.subplot(1,2,1)\n",
    "getGraphOne([-4,4], 1.96, typefunc=0, lm=0)\n",
    "plt.subplot(1,2,2)\n",
    "getGraphTwo([-4,4], 1.96, typefunc=0, lm=0)\n",
    "plt.show()"
   ]
  },
  {
   "cell_type": "markdown",
   "metadata": {},
   "source": [
    "<div>\n",
    "<p><i><b>Доверительный интревал для выборки небольших размеров ($n$ меньше 30)</b></i></p>\n",
    "<ul>\n",
    "<li>наблюдения (элементы выборки) в выборке независимы (размер выборки меньше 10% от генеральной совокупности)</li>\n",
    "<li>наблюдения должны подчиняться нормальному закону</li>\n",
    "</ul>\n",
    "</div>"
   ]
  },
  {
   "cell_type": "markdown",
   "metadata": {},
   "source": [
    "<p>$$\\bar{x} - t_{df} \\cdot SE_\\bar{x}  \\leq \\mu_\\bar{x} \\leq \\bar{x} + t_{df} \\cdot SE_\\bar{x}$$</p>"
   ]
  },
  {
   "cell_type": "markdown",
   "metadata": {},
   "source": [
    "Если известны размер выборки $n$, выборочное среднее значение $\\bar{x}$, выборочная дисперсия $s^2$ и среднее значение  $\\mu$, то вероятность того, что среденее значение случайной выборки $\\bar{X}$ будет меньше или равно $\\bar{x}$, вычисляется следующим образом"
   ]
  },
  {
   "cell_type": "markdown",
   "metadata": {},
   "source": [
    "<center><div style=\"display:table; width:35%\">\n",
    "    <div style=\"display:table-row;\">\n",
    "        <div style=\"display:table-cell; width:10%; padding:10px;\">1)</div>\n",
    "        <div style=\"display:table-cell; width:90%; padding:10px;\">$SE_\\bar{x} = \\sqrt{\\dfrac{\\sigma^2}{n}} \\approx \\sqrt{\\dfrac{s^2}{n}}$</div>\n",
    "    </div>\n",
    "        <div style=\"display:table-row;\">\n",
    "        <div style=\"display:table-cell; width:10%; padding:10px;\">2)</div>\n",
    "        <div style=\"display:table-cell; width:90%; padding:10px;\">$t_{df} = \\dfrac{\\bar{x} - \\mu_{\\bar{x}}}{\\sigma_\\bar{x}} = \\dfrac{\\bar{x} - \\mu}{SE_\\bar{x}}$</div>\n",
    "    </div>\n",
    "        <div style=\"display:table-row;\">\n",
    "        <div style=\"display:table-cell; width:10%; padding:10px;\">3)</div>\n",
    "        <div style=\"display:table-cell; width:90%; padding:10px;\">$P(\\bar{X} \\leq \\bar{x})=P(T_{df} \\leq t_{df})=F_{one}(t_{df})$</div>\n",
    "    </div>\n",
    "</div></center>"
   ]
  },
  {
   "cell_type": "markdown",
   "metadata": {},
   "source": [
    "Если задана передельная ошибка $\\Delta$ и известны размер выборки $n$, выборочное среднее значение $\\bar{x}$ и выборочная дисперсия $s^2$, то доверительная вероятность $\\gamma$ вычисляется следующим образом:"
   ]
  },
  {
   "cell_type": "markdown",
   "metadata": {},
   "source": [
    "<center><div style=\"display:table; width:35%\">\n",
    "    <div style=\"display:table-row;\">\n",
    "        <div style=\"display:table-cell; width:10%; padding:10px;\">1)</div>\n",
    "        <div style=\"display:table-cell; width:90%; padding:10px;\">$SE_\\bar{x} = \\sqrt{\\dfrac{\\sigma^2}{n}} \\approx \\sqrt{\\dfrac{\\hat{s}^2}{n}}$</div>\n",
    "    </div>\n",
    "        <div style=\"display:table-row;\">\n",
    "        <div style=\"display:table-cell; width:10%; padding:10px;\">2)</div>\n",
    "        <div style=\"display:table-cell; width:90%; padding:10px;\">$t_{df} = \\dfrac{\\bar{x} - \\mu_{\\bar{x}}}{\\sigma_\\bar{x}} = \\dfrac{\\bar{x} - \\mu_{\\bar{x}}}{SE_\\bar{x}}=\\dfrac{\\Delta}{SE_\\bar{x}}$</div>\n",
    "    </div>\n",
    "        <div style=\"display:table-row;\">\n",
    "        <div style=\"display:table-cell; width:10%; padding:10px;\">3)</div>\n",
    "        <div style=\"display:table-cell; width:90%; padding:10px;\">$P(\\left|\\bar{x} - \\mu_{\\bar{x}}\\right|\\leq \\Delta)=1-F_{two}(t_{df})=\\gamma$</div>\n",
    "    </div>\n",
    "</div></center>"
   ]
  },
  {
   "cell_type": "markdown",
   "metadata": {},
   "source": [
    "<p>Если задан уровень доверия $\\gamma$ и известны размер выборки $n$, выборочное среднее значение $\\bar{x}$ и выборочная дисперсия $s^2$, то доверительный интервал рассчитывается следующим образом:</p>"
   ]
  },
  {
   "cell_type": "markdown",
   "metadata": {},
   "source": [
    "<center><div style=\"display:table; width:30%\">\n",
    "    <div style=\"display:table-row;\">\n",
    "        <div style=\"display:table-cell; width:10%; padding:10px;\">1)</div>\n",
    "        <div style=\"display:table-cell; width:90%; padding:10px;\">$SE_\\bar{x} = \\sqrt{\\dfrac{\\sigma^2}{n}} \\approx \\sqrt{\\dfrac{\\hat{s}^2}{n}}$</div>\n",
    "    </div>\n",
    "        <div style=\"display:table-row;\">\n",
    "        <div style=\"display:table-cell; width:10%; padding:10px;\">2)</div>\n",
    "        <div style=\"display:table-cell; width:90%; padding:10px;\">$F_{two}(t_{df}) =1 - \\gamma \\to t_{df}$</div>\n",
    "    </div>\n",
    "        <div style=\"display:table-row;\">\n",
    "        <div style=\"display:table-cell; width:10%; padding:10px;\">3)</div>\n",
    "        <div style=\"display:table-cell; width:90%; padding:10px;\">$\\bar{x} - t_{df} \\cdot SE_\\bar{x}  \\leq \\mu_\\bar{x} \\leq \\bar{x} + t_{df} \\cdot SE_\\bar{x}$</div>\n",
    "    </div>\n",
    "</div></center>"
   ]
  },
  {
   "cell_type": "markdown",
   "metadata": {},
   "source": [
    "<p>График $t_{df}$</p>"
   ]
  },
  {
   "cell_type": "code",
   "execution_count": null,
   "metadata": {
    "collapsed": false
   },
   "outputs": [],
   "source": [
    "x = np.linspace(-5, 5, 100)\n",
    "y_pdf = stats.norm.pdf(x, loc=0, scale=1)\n",
    "y_cdf = stats.norm.cdf(x, loc=0, scale=1)\n",
    "\n",
    "adf = [1,2,5,10, 15]\n",
    "\n",
    "plt.figure(1, figsize=[12, 4])\n",
    "\n",
    "legs = [\"d.f. = \" + str(adf[i]) for i in range(len(adf))]\n",
    "legs.insert(0, \"s.n.d\")\n",
    "plt.subplot(1,2,1)\n",
    "plt.title(\"t-distribution, pdf\")\n",
    "plt.plot(x, y_pdf, lw=2, color=\"black\")\n",
    "for i in adf:\n",
    "    pd = stats.t.pdf(x, i)\n",
    "    plt.plot(x,pd)\n",
    "plt.legend(legs, loc=\"upper right\")\n",
    "\n",
    "plt.grid(True)\n",
    "\n",
    "plt.subplot(1,2,2)\n",
    "plt.title(\"t-distribution, cdf\")\n",
    "plt.plot(x, y_cdf, lw=2, color=\"black\")\n",
    "for i in adf:\n",
    "    pd = stats.t.cdf(x, i)\n",
    "    plt.plot(x,pd)\n",
    "plt.legend(legs, loc=\"lower right\")\n",
    "plt.grid(True)\n",
    "plt.show()"
   ]
  },
  {
   "cell_type": "code",
   "execution_count": null,
   "metadata": {
    "collapsed": false
   },
   "outputs": [],
   "source": [
    "plt.figure(1, figsize=[12, 4])\n",
    "\n",
    "plt.subplot(1,2,1)\n",
    "getGraphOne([-4,4], -1.81, typefunc=1, lm=0, df=10)\n",
    "plt.subplot(1,2,2)\n",
    "getGraphTwo([-4,4], 2.23, typefunc=1, df=10, lm=1)\n",
    "plt.show()"
   ]
  },
  {
   "cell_type": "markdown",
   "metadata": {},
   "source": [
    "<p>Условия использования z-значений</p>"
   ]
  },
  {
   "cell_type": "markdown",
   "metadata": {},
   "source": [
    "<p>Вероятность того, что отклонение выборочной средней не превзойдет число $\\Delta$</p>"
   ]
  },
  {
   "cell_type": "markdown",
   "metadata": {},
   "source": [
    "$$P(\\left|\\bar{x} - \\mu_{\\bar{x}}\\right|\\leq \\Delta)=\\Phi(z)$$ - доверительная вероятность"
   ]
  },
  {
   "cell_type": "markdown",
   "metadata": {},
   "source": [
    "$$\\Delta = z\\sigma_\\bar{x}$$"
   ]
  },
  {
   "cell_type": "markdown",
   "metadata": {},
   "source": [
    "<p><b>Пример</b></p>"
   ]
  },
  {
   "cell_type": "markdown",
   "metadata": {},
   "source": [
    "<p>Среднее потребление воды 2 литра с дисперсией 0.7. Случайно выбраны 50 человек. Какая вероятность того, что им не хватит 110 литров воды?</p>"
   ]
  },
  {
   "cell_type": "code",
   "execution_count": null,
   "metadata": {
    "collapsed": false
   },
   "outputs": [],
   "source": [
    "vol = 110\n",
    "n = 50\n",
    "mu =  2\n",
    "sigma = 0.7\n",
    "\n",
    "# 1) Среднее потребление воды человеком, чтобы хватило равно 110 литров\n",
    "x_bar = vol / n\n",
    "\n",
    "# 2) Вычисляем стандартную ошибку SE\n",
    "se = sigma / np.sqrt(n)\n",
    "\n",
    "# 3) Определяем z\n",
    "z = (x_bar - mu) / se\n",
    "\n",
    "# 4) Рассчитываем вероятность того, что в среднем на каждого придется меньше или равно x_bar литров\n",
    "p = stats.norm.cdf(z, loc=0, scale=1)\n",
    "\n",
    "# 5) Вероятность того, что им не хватит 110 литров воды\n",
    "p_res = 1 - p\n",
    "p_res"
   ]
  },
  {
   "cell_type": "code",
   "execution_count": null,
   "metadata": {
    "collapsed": false
   },
   "outputs": [],
   "source": [
    "#Проверка\n",
    "1 - stats.norm.cdf(x_bar, loc=mu, scale=se)"
   ]
  },
  {
   "cell_type": "code",
   "execution_count": null,
   "metadata": {
    "collapsed": false
   },
   "outputs": [],
   "source": [
    "plt.figure(1, figsize=[12, 4])\n",
    "\n",
    "plt.subplot(1,2,1)\n",
    "getGraphOne([-4,4], z, lm=0)\n",
    "plt.subplot(1,2,2)\n",
    "getGraphOne([-4,4], z, lm=1)\n",
    "\n",
    "plt.show()"
   ]
  },
  {
   "cell_type": "markdown",
   "metadata": {
    "collapsed": true
   },
   "source": [
    "<a name=\"5\"></a>\n",
    "<div style=\"display:table; width:100%; padding-top:10px; padding-bottom:10px; border-bottom:1px solid lightgrey\">\n",
    "    <div style=\"display:table-row\">\n",
    "        <div style=\"display:table-cell; width:80%; font-size:14pt; font-weight:bold\">5. Проверка гипотез</div>\n",
    "    \t<div style=\"display:table-cell; width:20%; text-align:center; background-color:whitesmoke; border:1px solid lightgrey\"><a href=\"#0\">К содержанию</a></div>\n",
    "    </div>\n",
    "</div>"
   ]
  },
  {
   "cell_type": "markdown",
   "metadata": {},
   "source": [
    "<a name = \"5a\"></a>\n",
    "<div style = \"display:table; width:100%\">\n",
    "    <div style = \"display:table-row\">\n",
    "        <div style = \"display:table-cell; width:80%; font-style:italic; font-weight:bold; font-size:12pt\">\n",
    "            a. Общие сведения \n",
    "        </div>\n",
    "        <div style=\"display:table-cell; border:1px solid lightgrey; width:20%\">\n",
    "            <div style = \"display:table-cell; width:10%; text-align:center; background-color:whitesmoke;\">\n",
    "                <a href=\"#5\">Назад</a>\n",
    "            </div>\n",
    "            <div style = \"display:table-cell; width:10%; text-align:center;\">\n",
    "                <a href=\"#5b\">Далее</a>\n",
    "            </div>\n",
    "        </div>\n",
    "    </div>\n",
    "</div>"
   ]
  },
  {
   "cell_type": "markdown",
   "metadata": {},
   "source": [
    "<p>Нулевая гипотеза $H_0$ - наблюдаемые данные соответствуют ранее полученным, нет изменений</p>\n",
    "<p>Альтернативная гипотеза $H_A$ - наблюдаемые данные отличаются от ранее полученных, есть изменения</p>"
   ]
  },
  {
   "cell_type": "markdown",
   "metadata": {},
   "source": [
    "<table>\n",
    "<tr>\n",
    "<th>Гипотеза $H_0$</th>\n",
    "<th>Принимается</th>\n",
    "<th>Отвергается</th>\n",
    "</tr>\n",
    "<tr>\n",
    "<td><b>Верна</b></td>\n",
    "<td>Правильное решение</td>\n",
    "<td>Ошибка 1-го рода</td>\n",
    "</tr>\n",
    "<tr>\n",
    "<td><b>Неверна</b></td>\n",
    "<td>Ошибка 2-го рода</td>\n",
    "<td>Правильное решение</td>\n",
    "</tr>\n",
    "</table>"
   ]
  },
  {
   "cell_type": "markdown",
   "metadata": {},
   "source": [
    "<p><i>p-значение</i> (p-value) - вероятность наблюдения данных, которые были бы в пользу альтернативной гипотезы, также как и текущие данные, если нулевая гипотеза верна.</p>"
   ]
  },
  {
   "cell_type": "markdown",
   "metadata": {},
   "source": [
    "<p>Малая величина p-value означает, что если нулевая гипотеза верна, то существует малая вероятность наблюдения данных по крайней мере на столько же экстремальных, как мы получили. p-value получают после проведения эксперимента, исследования.</p>"
   ]
  },
  {
   "cell_type": "markdown",
   "metadata": {},
   "source": [
    "<p><i>Уровень значимости</i> (significance level) $\\alpha$ - вероятность допустить ошибку 1-го рода, т.е. отвергнуть гипотезу $H_0$, когда она верна. <i>Уровень значимости</i> - допустимый уровень ошибки, устанавливается до проведения эксперимента, исследования.</p>"
   ]
  },
  {
   "cell_type": "markdown",
   "metadata": {},
   "source": [
    "<p style=\"text-align:center\">При <i>p-value</i> меньшем уровня значимости $\\alpha$ отвергается нулевая гипотеза $H_0$</p>"
   ]
  },
  {
   "cell_type": "code",
   "execution_count": null,
   "metadata": {
    "collapsed": true
   },
   "outputs": [],
   "source": [
    "def getSE(sigma, n):\n",
    "    return sigma / np.sqrt(n)\n",
    "\n",
    "def getZ(x, mu, se):\n",
    "    return (x - mu) / se\n",
    "\n",
    "def getPrByX(x, mu, se):\n",
    "    return stats.norm.cdf(x, loc=mu, scale=se)\n",
    "\n",
    "def getPrByZ(z):\n",
    "    return stats.norm.cdf(z, loc=0, scale=1)\n",
    "\n",
    "def getZbyPr2Tail(pr):\n",
    "    return stats.norm.ppf((1-pr)/2, loc=0, scale=1)\n",
    "\n",
    "def getZbyPr1Tail(pr):\n",
    "    return stats.norm.ppf(1-pr, loc=0, scale=1)\n",
    "\n",
    "def getPValue1Tail_Norm(z):\n",
    "    return 1 - stats.norm.cdf(z, loc=0, scale=1)\n",
    "\n",
    "def getPValue2Tail_Norm(z):\n",
    "    return 2 * (stats.norm.cdf(-abs(z), loc=0, scale=1))\n",
    "\n",
    "def getPValue2Tail_T(t, df):\n",
    "    return 2 * stats.t.cdf(-abs(t), df=df)\n",
    "\n",
    "def getPValue1Tail_T(t, df):\n",
    "    return 1 - stats.t.cdf(t, df=df)"
   ]
  },
  {
   "cell_type": "markdown",
   "metadata": {},
   "source": [
    "<a name = \"5b\"></a>\n",
    "<div style = \"display:table; width:100%\">\n",
    "    <div style = \"display:table-row\">\n",
    "        <div style = \"display:table-cell; width:80%; font-style:italic; font-weight:bold; font-size:12pt\">\n",
    "            b. Проверка гипотез со средним значением\n",
    "        </div>\n",
    "        <div style=\"display:table-cell; border:1px solid lightgrey; width:20%\">\n",
    "            <div style = \"display:table-cell; width:10%; text-align:center; background-color:whitesmoke;\">\n",
    "                <a href=\"#5a\">Назад</a>\n",
    "            </div>\n",
    "            <div style = \"display:table-cell; width:10%; text-align:center;\">\n",
    "                <a href=\"#6\">Далее</a>\n",
    "            </div>\n",
    "        </div>\n",
    "    </div>\n",
    "</div>"
   ]
  },
  {
   "cell_type": "markdown",
   "metadata": {},
   "source": [
    "<p><b>Одна выборка</b></p>"
   ]
  },
  {
   "cell_type": "markdown",
   "metadata": {},
   "source": [
    "<p>Если известны $\\mu_{prev}$, $n$, $\\bar{x}_{curr}$, $s_{curr}$, то:</p>\n",
    "<p>$$H_0: \\mu_{prev}=\\mu_{curr}$$<p>\n",
    "<p>$$H_A: \\mu_{prev} \\neq \\mu_{curr}$$<p>"
   ]
  },
  {
   "cell_type": "markdown",
   "metadata": {},
   "source": [
    "<p><b><i>Пример</i></b></p>"
   ]
  },
  {
   "cell_type": "markdown",
   "metadata": {},
   "source": [
    "<p>Среднее потребление человеком воды в 2014 было 2 литра. Для оценки среднего потребления в 2015 году были случайно выбраны 100 человек. В резльтате получены следующие данные по выборке: среднее потребление воды 2.3, выборочная дисперсия 0.5. На основании выборки можно ли утверждать, что среднее потребление воды изменилось в 2015 по сравнению с 2014? Допустимый уровень ошибки 1-го рода 0.05.</p>"
   ]
  },
  {
   "cell_type": "markdown",
   "metadata": {},
   "source": [
    "<p>$$H_0: \\mu_{2014}=\\mu_{2015}$$<p>"
   ]
  },
  {
   "cell_type": "code",
   "execution_count": null,
   "metadata": {
    "collapsed": false
   },
   "outputs": [],
   "source": [
    "mu_2014 = 2\n",
    "x_bar_2015 = 2.3\n",
    "s_2015 = 1\n",
    "n = 110\n",
    "alpha = 0.05\n",
    "\n",
    "# 1) Вычисляем стандартную ошибку SE\n",
    "se = getSE(s_2015, n)\n",
    "print(\"SE =\", se)\n",
    "\n",
    "# 2) Z-score\n",
    "z = getZ(x_bar_2015, mu_2014, se)\n",
    "print(\"z-score =\", z)\n",
    "\n",
    "# 3) P-Value \n",
    "pvalue = getPValue2Tail_Norm(z)\n",
    "print(\"p-value =\", pvalue)\n",
    "\n",
    "print(\"alpha =\", alpha)\n",
    "\n",
    "if alpha > pvalue:\n",
    "    print(\"alpha > p-value\")\n",
    "    print(\"Отказываемся от нулевую гипотезы: полагаем, что потребление воды отличается в 2014 и 2015\")\n",
    "else:\n",
    "    print(\"alpha <= p-value\")\n",
    "    print(\"Принимаем нулевую гипотезу: нет достаточных доказательств, что потребление различно в 2014 и 2015\")"
   ]
  },
  {
   "cell_type": "code",
   "execution_count": null,
   "metadata": {
    "collapsed": false
   },
   "outputs": [],
   "source": [
    "plt.figure(1, figsize=[12, 4])\n",
    "\n",
    "plt.subplot(1,2,1)\n",
    "xx = abs(stats.norm.ppf(alpha/2, loc=0, scale=1))\n",
    "plt.axvline(-xx, lw=2, color=\"orange\", linestyle=\"-\")\n",
    "plt.axvline(xx, lw=2, color=\"orange\", linestyle=\"-\")\n",
    "plt.axvspan(-xx, xx, color=\"orange\", alpha=0.1)\n",
    "getGraphTwo([-4,4], z, lm=0)\n",
    "\n",
    "plt.subplot(1,2,2)\n",
    "plt.axvline(-xx, lw=2, color=\"orange\", linestyle=\"-\")\n",
    "plt.axvline(xx, lw=2, color=\"orange\", linestyle=\"-\")\n",
    "plt.axvspan(-xx, xx, color=\"orange\", alpha=0.1)\n",
    "getGraphTwo([-4,4], z, lm=1)\n",
    "\n",
    "plt.show()"
   ]
  },
  {
   "cell_type": "markdown",
   "metadata": {},
   "source": [
    "<p><b>Одна парная выборка</b></p>"
   ]
  },
  {
   "cell_type": "markdown",
   "metadata": {},
   "source": [
    "<table width=30%>\n",
    "<tr>\n",
    "<th>Наблюдение</th>\n",
    "<th>$X_1$</th>\n",
    "<th>$X_2$</th>\n",
    "<th>$X_1-X_2$</th>\n",
    "</tr>\n",
    "<tr>\n",
    "<td>1</td>\n",
    "<td>$x_{1,1}$</td>\n",
    "<td>$x_{2,1}$</td>\n",
    "<td>$x_{diff,1}$</td>\n",
    "</tr>\n",
    "<tr>\n",
    "<td>2</td>\n",
    "<td>$x_{1,2}$</td>\n",
    "<td>$x_{2,2}$</td>\n",
    "<td>$x_{diff,2}$</td>\n",
    "</tr>\n",
    "<tr>\n",
    "<td>$\\vdots$</td>\n",
    "<td>$\\vdots$</td>\n",
    "<td>$\\vdots$</td>\n",
    "<td>$\\vdots$</td>\n",
    "</tr>\n",
    "<tr>\n",
    "<td>$n$</td>\n",
    "<td>$x_{1,n}$</td>\n",
    "<td>$x_{2,n}$</td>\n",
    "<td>$x_{diff,n}$</td>\n",
    "</tr>\n",
    "</table>"
   ]
  },
  {
   "cell_type": "markdown",
   "metadata": {},
   "source": [
    "$$x_{diff,i}=x_{1,i}-x_{2,i}$$"
   ]
  },
  {
   "cell_type": "markdown",
   "metadata": {},
   "source": [
    "<p>Если известны $n$, $\\bar{x}_{diff}$, $s_{diff}$, то:</p>\n",
    "<p>$$H_0: \\mu_{diff}=0$$<p>\n",
    "<p>$$H_A: \\mu_{diff} \\neq 0$$<p>"
   ]
  },
  {
   "cell_type": "markdown",
   "metadata": {},
   "source": [
    "<p><b>Средние значения двух выборок</b></p>"
   ]
  },
  {
   "cell_type": "markdown",
   "metadata": {},
   "source": [
    "<p>Если известны $n_{treated}$, $\\bar{x}_{treated}$, $s_{treated}$ и $n_{control}$, $\\bar{x}_{control}$, $s_{control}$, то:</p>\n",
    "<p>$$H_0: \\mu_{treated}-\\mu_{control}=0$$<p>\n",
    "<p>$$H_A: \\mu_{treated}-\\mu_{control} \\neq 0$$<p>"
   ]
  },
  {
   "cell_type": "markdown",
   "metadata": {},
   "source": [
    "$$SE_{\\mu_{treated}-\\mu_{control}} = \\sqrt{\\dfrac{\\sigma_{treated}^2}{n_{treated}}+\\dfrac{\\sigma_{control}^2}{n_{control}}} \\approx \\sqrt{\\dfrac{s_{treated}^2}{n_{treated}}+\\dfrac{s_{control}^2}{n_{control}}}$$"
   ]
  },
  {
   "cell_type": "markdown",
   "metadata": {},
   "source": [
    "$$z = \\dfrac{(\\bar{x}_{treated} - \\bar{x}_{control}) - (\\mu_{\\bar{x}_{treated}} - \\mu_{\\bar{x}_{control}})}{SE_{\\mu_{treated}-\\mu_{control}} }$$"
   ]
  },
  {
   "cell_type": "markdown",
   "metadata": {
    "collapsed": true
   },
   "source": [
    "<a name=\"6\"></a>\n",
    "<div style=\"display:table; width:100%; padding-top:10px; padding-bottom:10px; border-bottom:1px solid lightgrey\">\n",
    "    <div style=\"display:table-row\">\n",
    "        <div style=\"display:table-cell; width:80%; font-size:14pt; font-weight:bold\">6. Источники</div>\n",
    "    \t<div style=\"display:table-cell; width:20%; text-align:center; background-color:whitesmoke; border:1px solid lightgrey\"><a href=\"#0\">К содержанию</a></div>\n",
    "    </div>\n",
    "</div>"
   ]
  },
  {
   "cell_type": "markdown",
   "metadata": {},
   "source": [
    "Кремер Н.Ш. Теория вероятностей и математическая статистика<br>\n",
    "<a href=\"https://www.openintro.org/stat/textbook.php?stat_book=os\">OpenIntro Statistics 3rd Edition</a><br>\n",
    "<a href=\"http://www.kean.edu/~fosborne/bstat/07b2means.html\">Hypothesis Testing of the Difference Between Two Population Means</a><br>\n",
    "<a href=\"https://www.khanacademy.org/math/probability/statistics-inferential\">Inferential statistics</a><br>"
   ]
  },
  {
   "cell_type": "code",
   "execution_count": null,
   "metadata": {
    "collapsed": true
   },
   "outputs": [],
   "source": []
  }
 ],
 "metadata": {
  "kernelspec": {
   "display_name": "Python 3",
   "language": "python",
   "name": "python3"
  },
  "language_info": {
   "codemirror_mode": {
    "name": "ipython",
    "version": 3
   },
   "file_extension": ".py",
   "mimetype": "text/x-python",
   "name": "python",
   "nbconvert_exporter": "python",
   "pygments_lexer": "ipython3",
   "version": "3.4.3"
  }
 },
 "nbformat": 4,
 "nbformat_minor": 0
}
